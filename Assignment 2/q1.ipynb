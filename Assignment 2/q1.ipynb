{
 "cells": [
  {
   "cell_type": "code",
   "execution_count": null,
   "metadata": {},
   "outputs": [],
   "source": [
    "import pandas as pd\n",
    "import matplotlib.pyplot as plt\n",
    "import numpy as np\n",
    "import torch \n",
    "from torchvision import transforms\n",
    "import torchvision\n",
    "import seaborn as sns"
   ]
  },
  {
   "cell_type": "code",
   "execution_count": null,
   "metadata": {},
   "outputs": [],
   "source": [
    "# define a transform to normalize the data\n",
    "transform = transforms.Compose([transforms.ToTensor(),\n",
    "                                transforms.Normalize((0.5,), (0.5,)),\n",
    "                                ])\n",
    "\n",
    "# Load fashion MNIST dataset from torchvision\n",
    "trainset = torchvision.datasets.FashionMNIST(root='./data', train=True, download=True, transform=transform)\n",
    "testset = torchvision.datasets.FashionMNIST(root='./data', train=False, download=True, transform=transform)\n",
    "# create dataloaders\n",
    "train_loader = torch.utils.data.DataLoader(trainset, batch_size=64, shuffle=True)\n",
    "test_loader = torch.utils.data.DataLoader(testset, batch_size=64, shuffle=True)"
   ]
  },
  {
   "cell_type": "code",
   "execution_count": null,
   "metadata": {},
   "outputs": [],
   "source": [
    "# plot one random image from each class\n",
    "classes = ('T-shirt/top', 'Trouser', 'Pullover', 'Dress', 'Coat', 'Sandal', 'Shirt', 'Sneaker', 'Bag', 'Ankle boot')\n",
    "fig, ax = plt.subplots(2, 5, figsize=(10, 5))\n",
    "for i in range(10):\n",
    "    indx = np.random.choice(np.where(np.array(trainset.targets) == i)[0])\n",
    "    ax[i//5, i%5].imshow(trainset[indx][0].squeeze(), cmap='gray')\n",
    "    ax[i//5, i%5].set_title(classes[i])\n",
    "plt.show()"
   ]
  },
  {
   "cell_type": "code",
   "execution_count": null,
   "metadata": {},
   "outputs": [],
   "source": [
    "# define a cross entropy loss function from scratch\n",
    "def cross_entropy(y_pred, y_true):\n",
    "    return -torch.log(y_pred[range(y_pred.shape[0]), y_true]).mean()\n",
    "\n",
    "# define a function to calculate accuracy\n",
    "def accuracy(y_pred, y_true):\n",
    "    return (y_pred.argmax(dim=1) == y_true).float().mean()\n"
   ]
  },
  {
   "cell_type": "code",
   "execution_count": null,
   "metadata": {},
   "outputs": [],
   "source": [
    "# create a linear layer class from scratch that takes in_features and out_features \n",
    "# as input and uses he initialization for weights and zero initialization for bias\n",
    "class Linear:\n",
    "    def __init__(self, in_features, out_features):\n",
    "        self.in_features = in_features\n",
    "        self.out_features = out_features\n",
    "        self.weight = torch.randn(out_features, in_features) * np.sqrt(2/in_features)\n",
    "        self.weight.requires_grad = True\n",
    "        self.bias = torch.zeros(out_features)\n",
    "        self.bias.requires_grad = True\n",
    "\n",
    "    def __call__(self, x):\n",
    "        return x @ self.weight.t() + self.bias\n",
    "\n",
    "# create a ReLU activation class from scratch\n",
    "\n",
    "class ReLU:\n",
    "    def __init__(self):\n",
    "        pass\n",
    "\n",
    "    def __call__(self, x):\n",
    "        return x.clamp(min=0)\n",
    "\n",
    "# create softmax activation class from scratch that\n",
    "class Softmax:\n",
    "    def __init__(self):\n",
    "        pass\n",
    "\n",
    "    def __call__(self, x):\n",
    "        return torch.exp(x) / torch.exp(x).sum(dim=1, keepdim=True)\n",
    "\n",
    "# create a sequential class from scratch that takes a list of layers as input\n",
    "class Sequential:\n",
    "    def __init__(self, layers):\n",
    "        self.layers = layers\n",
    "\n",
    "    def __call__(self, x):\n",
    "        for layer in self.layers:\n",
    "            x = layer(x)\n",
    "        return x"
   ]
  }
 ],
 "metadata": {
  "kernelspec": {
   "display_name": "Python 3.9 (pytorch)",
   "language": "python",
   "name": "torch"
  },
  "language_info": {
   "name": "python",
   "version": "3.9.13"
  },
  "orig_nbformat": 4,
  "vscode": {
   "interpreter": {
    "hash": "1cbcb8df23fcabb14b98d08f167303b8612ee566ea031dd4a83c67bd8cdc07a1"
   }
  }
 },
 "nbformat": 4,
 "nbformat_minor": 2
}
