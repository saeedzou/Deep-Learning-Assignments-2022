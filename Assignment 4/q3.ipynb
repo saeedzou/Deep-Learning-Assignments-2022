{
  "cells": [
    {
      "cell_type": "markdown",
      "metadata": {
        "id": "view-in-github",
        "colab_type": "text"
      },
      "source": [
        "<a href=\"https://colab.research.google.com/github/saeedzou/DeepLearning1401-01/blob/main/Assignment%204/q3.ipynb\" target=\"_parent\"><img src=\"https://colab.research.google.com/assets/colab-badge.svg\" alt=\"Open In Colab\"/></a>"
      ]
    },
    {
      "cell_type": "code",
      "execution_count": 1,
      "metadata": {
        "id": "fa8_1sCuXu-M",
        "colab": {
          "base_uri": "https://localhost:8080/"
        },
        "outputId": "b7f13efa-a984-4010-cff7-580b7e64f86f"
      },
      "outputs": [
        {
          "output_type": "stream",
          "name": "stdout",
          "text": [
            "\u001b[2K     \u001b[90m━━━━━━━━━━━━━━━━━━━━━━━━━━━━━━━━━━━━━━━━\u001b[0m \u001b[32m6.3/6.3 MB\u001b[0m \u001b[31m46.1 MB/s\u001b[0m eta \u001b[36m0:00:00\u001b[0m\n",
            "\u001b[2K     \u001b[90m━━━━━━━━━━━━━━━━━━━━━━━━━━━━━━━━━━━━━━━━\u001b[0m \u001b[32m7.6/7.6 MB\u001b[0m \u001b[31m57.8 MB/s\u001b[0m eta \u001b[36m0:00:00\u001b[0m\n",
            "\u001b[2K     \u001b[90m━━━━━━━━━━━━━━━━━━━━━━━━━━━━━━━━━━━━━━━\u001b[0m \u001b[32m190.3/190.3 KB\u001b[0m \u001b[31m8.6 MB/s\u001b[0m eta \u001b[36m0:00:00\u001b[0m\n",
            "\u001b[2K     \u001b[90m━━━━━━━━━━━━━━━━━━━━━━━━━━━━━━━━━━━━━━\u001b[0m \u001b[32m316.7/316.7 KB\u001b[0m \u001b[31m22.7 MB/s\u001b[0m eta \u001b[36m0:00:00\u001b[0m\n",
            "\u001b[2K     \u001b[90m━━━━━━━━━━━━━━━━━━━━━━━━━━━━━━━━━━━━━━━━\u001b[0m \u001b[32m1.4/1.4 MB\u001b[0m \u001b[31m64.7 MB/s\u001b[0m eta \u001b[36m0:00:00\u001b[0m\n",
            "\u001b[?25h  Preparing metadata (setup.py) ... \u001b[?25l\u001b[?25hdone\n",
            "\u001b[2K     \u001b[90m━━━━━━━━━━━━━━━━━━━━━━━━━━━━━━━━━━━━━━\u001b[0m \u001b[32m233.6/233.6 KB\u001b[0m \u001b[31m23.1 MB/s\u001b[0m eta \u001b[36m0:00:00\u001b[0m\n",
            "\u001b[?25h  Preparing metadata (setup.py) ... \u001b[?25l\u001b[?25hdone\n",
            "  Building wheel for nltk (setup.py) ... \u001b[?25l\u001b[?25hdone\n",
            "  Building wheel for libwapiti (setup.py) ... \u001b[?25l\u001b[?25hdone\n"
          ]
        }
      ],
      "source": [
        "import numpy as np\n",
        "import pandas as pd\n",
        "import random\n",
        "import matplotlib.pyplot as plt\n",
        "from sklearn.metrics import confusion_matrix, accuracy_score, f1_score, classification_report\n",
        "import gc\n",
        "import torch\n",
        "from torch import nn\n",
        "import torch.nn.functional as F\n",
        "from torchsummary import summary\n",
        "!pip install -q transformers\n",
        "from transformers import BertTokenizer\n",
        "from transformers import BertModel\n",
        "!pip install -q hazm\n",
        "import hazm\n",
        "import os\n",
        "import seaborn as sns\n",
        "device = \"cuda\" if torch.cuda.is_available() else \"cpu\""
      ]
    },
    {
      "cell_type": "code",
      "source": [
        "!git clone https://github.com/amnghd/Persian_poems_corpus.git"
      ],
      "metadata": {
        "colab": {
          "base_uri": "https://localhost:8080/"
        },
        "id": "EokojhWYYGuI",
        "outputId": "a50fe17b-a82b-44b3-bbc0-25fadc6d6f02"
      },
      "execution_count": 2,
      "outputs": [
        {
          "output_type": "stream",
          "name": "stdout",
          "text": [
            "Cloning into 'Persian_poems_corpus'...\n",
            "remote: Enumerating objects: 159, done.\u001b[K\n",
            "remote: Total 159 (delta 0), reused 0 (delta 0), pack-reused 159\u001b[K\n",
            "Receiving objects: 100% (159/159), 45.21 MiB | 13.68 MiB/s, done.\n",
            "Resolving deltas: 100% (3/3), done.\n"
          ]
        }
      ]
    },
    {
      "cell_type": "markdown",
      "source": [
        "I selected 10 poets with around 10-15k number of beyts so that the combined dataset is almost balanaced."
      ],
      "metadata": {
        "id": "HvsZeLMKD4Q2"
      }
    },
    {
      "cell_type": "code",
      "source": [
        "poets_dict = {}\n",
        "for poet in os.listdir('Persian_poems_corpus/normalized'):\n",
        "  with open(f'Persian_poems_corpus/normalized/{poet}', 'r', encoding='utf-8') as f:\n",
        "      poem = [line.strip() for line in f.readlines()]\n",
        "      poem = [verse for verse in poem if len(verse)>0]\n",
        "  poets_dict[poet.split('_')[0]] = len(poem)\n",
        "selected_poets = {poet:num_mesras for poet, num_mesras in poets_dict.items() if num_mesras>20000 and num_mesras<31000}"
      ],
      "metadata": {
        "id": "-fNVe2q4_ev6"
      },
      "execution_count": 3,
      "outputs": []
    },
    {
      "cell_type": "code",
      "source": [
        "data = []\n",
        "for poet in selected_poets.keys():\n",
        "  df = pd.read_csv(os.path.join('Persian_poems_corpus/normalized', poet + '_norm.txt'), header=None, names=['text'])\n",
        "  if len(df) % 2 == 1:\n",
        "    df = df[:-1]\n",
        "  df = pd.DataFrame({'text': [df.iloc[i]['text'] + ' [SEP] ' + df.iloc[i+1]['text'] for i in range(0, len(df), 2)]})\n",
        "  print(poet, \", number of beyts: \", len(df))\n",
        "  data.append(df)\n",
        "result = pd.concat([df.assign(index=i) for i, df in enumerate(data)], axis=0, ignore_index=True)\n",
        "result = result.sample(frac=1).reset_index(drop=True)"
      ],
      "metadata": {
        "id": "xaZ1LivpfEzL",
        "colab": {
          "base_uri": "https://localhost:8080/"
        },
        "outputId": "779ea562-9439-454b-9178-e4cb8d351b67"
      },
      "execution_count": 4,
      "outputs": [
        {
          "output_type": "stream",
          "name": "stdout",
          "text": [
            "anvari , number of beyts:  13307\n",
            "farrokhi , number of beyts:  11985\n",
            "vahshi , number of beyts:  10494\n",
            "naserkhosro , number of beyts:  10748\n",
            "seyf , number of beyts:  13008\n",
            "nezari , number of beyts:  10229\n",
            "salman , number of beyts:  13015\n",
            "kamal , number of beyts:  15177\n",
            "ouhadi , number of beyts:  14620\n",
            "shahnematollah , number of beyts:  14957\n"
          ]
        }
      ]
    },
    {
      "cell_type": "code",
      "source": [
        "# split data into train and val and test\n",
        "trainset = result.iloc[:int(len(result)*0.8)].values\n",
        "valset = result.iloc[int(len(result)*0.8):int(len(result)*0.9)].values\n",
        "testset = result.iloc[int(len(result)*0.9):].values\n",
        "# print the length of each dataset\n",
        "print('train: ', len(trainset))\n",
        "print('val: ', len(valset))\n",
        "print('test: ', len(testset))"
      ],
      "metadata": {
        "colab": {
          "base_uri": "https://localhost:8080/"
        },
        "id": "v0evwTiCg4b3",
        "outputId": "aabc0bcf-b4eb-4ffb-b9e8-74d84d40c37d"
      },
      "execution_count": 5,
      "outputs": [
        {
          "output_type": "stream",
          "name": "stdout",
          "text": [
            "train:  102032\n",
            "val:  12754\n",
            "test:  12754\n"
          ]
        }
      ]
    },
    {
      "cell_type": "code",
      "source": [
        "# calculate max length of poems\n",
        "max_len = 0\n",
        "for poem in trainset:\n",
        "    if len(poem[0].split()) > max_len:\n",
        "        max_len = len(poem[0].split())\n",
        "print('max length of poems: ', max_len)\n",
        "# print the poem with max length\n",
        "print('poem with max length: ', trainset[np.argmax([len(poem[0].split()) for poem in trainset])][0])"
      ],
      "metadata": {
        "colab": {
          "base_uri": "https://localhost:8080/"
        },
        "id": "rVDrHi0CkUN6",
        "outputId": "d10a29d5-b999-4f33-84d8-90876aa16ed4"
      },
      "execution_count": 6,
      "outputs": [
        {
          "output_type": "stream",
          "name": "stdout",
          "text": [
            "max length of poems:  27\n",
            "poem with max length:  نام وننگ و فخر و عار و عز وذل و نوش وزهر [SEP] شادی و غم سعد و نحس و تاج و بند و تخت و دار\n"
          ]
        }
      ]
    },
    {
      "cell_type": "code",
      "source": [
        "# define a dataset class\n",
        "class PoemDataset(torch.utils.data.Dataset):\n",
        "    def __init__(self, data, tokenizer, max_len):\n",
        "        self.data = data\n",
        "        self.tokenizer = tokenizer\n",
        "        self.max_len = max_len\n",
        "        self.texts = [tokenizer(text, padding='max_length', truncation=True, max_length=max_len, return_tensors='pt') for text in self.data[:, 0]]\n",
        "        self.labels = [poet for poet in self.data[:, 1]]\n",
        "    \n",
        "    def __len__(self):\n",
        "        return len(self.data)\n",
        "    \n",
        "    def __getitem__(self, index):\n",
        "        return self.texts[index], torch.tensor(self.labels[index]).long()"
      ],
      "metadata": {
        "id": "9yk27Gx7m-WM"
      },
      "execution_count": 7,
      "outputs": []
    },
    {
      "cell_type": "code",
      "source": [
        "tokenizer = BertTokenizer.from_pretrained('HooshvareLab/bert-base-parsbert-uncased')\n",
        "train_dataset = PoemDataset(trainset, tokenizer, max_len)\n",
        "val_dataset = PoemDataset(valset, tokenizer, max_len)\n",
        "test_dataset = PoemDataset(testset, tokenizer, max_len)"
      ],
      "metadata": {
        "id": "WUKoIB3-pVYf",
        "colab": {
          "base_uri": "https://localhost:8080/",
          "height": 81,
          "referenced_widgets": [
            "4d60db9e0b984e508f8a51c304a05e61",
            "a72f60baba734fc8b05a996a9d2b6f95",
            "2ff65b7a13624b27806ff50ec02cab4f",
            "9c1a8bd8ca5844ed8717815f5cafac3b",
            "45f1cf0ee4144c7b9ded2b3f52c7b044",
            "f7ecb99100404f53ad9b6ca43ce741bc",
            "b24d8e4ab289461fb75e2c2a8d798900",
            "495538873db8474c9750f42483e79cdc",
            "c93193f6fcfc4dc6aeccdf909a2b61b0",
            "38991316501b4c1bb6b8cb58a5690b43",
            "2baca0376d8a43e4aefd64833382938d",
            "1f1ce8e7cecd4d48924247f05ca11492",
            "54fc9e48d11e4c50a36bde42a83ceb12",
            "5b603bfd480543be8e7b39900c02fcb0",
            "970c752ab5294aa2a4b89161f2281506",
            "5dca42f3ae344f1aaf2233591663326d",
            "817b552ab0ba47b08cf2c583eca7ee94",
            "8f6856d7a0784b1c8edf31a15eed0c7e",
            "9f9d98607a1c4ced8b11fe37c3120283",
            "64f2c5a1b8f34bbba8819f8256192471",
            "fd883a99f16c4cf38b257351e81e882e",
            "7a7d316586b449bda4fb4194e9190f2f"
          ]
        },
        "outputId": "ee00e087-7cf6-4adc-ea8d-f0dc4a3d66ba"
      },
      "execution_count": 8,
      "outputs": [
        {
          "output_type": "display_data",
          "data": {
            "text/plain": [
              "Downloading (…)solve/main/vocab.txt:   0%|          | 0.00/1.22M [00:00<?, ?B/s]"
            ],
            "application/vnd.jupyter.widget-view+json": {
              "version_major": 2,
              "version_minor": 0,
              "model_id": "4d60db9e0b984e508f8a51c304a05e61"
            }
          },
          "metadata": {}
        },
        {
          "output_type": "display_data",
          "data": {
            "text/plain": [
              "Downloading (…)lve/main/config.json:   0%|          | 0.00/434 [00:00<?, ?B/s]"
            ],
            "application/vnd.jupyter.widget-view+json": {
              "version_major": 2,
              "version_minor": 0,
              "model_id": "1f1ce8e7cecd4d48924247f05ca11492"
            }
          },
          "metadata": {}
        }
      ]
    },
    {
      "cell_type": "code",
      "source": [
        "# dataloaders\n",
        "train_loader = torch.utils.data.DataLoader(train_dataset, batch_size=32, shuffle=True)\n",
        "val_loader = torch.utils.data.DataLoader(val_dataset, batch_size=32, shuffle=True)\n",
        "test_loader = torch.utils.data.DataLoader(test_dataset, batch_size=32, shuffle=True)"
      ],
      "metadata": {
        "id": "GfxxEi0jKEct"
      },
      "execution_count": 9,
      "outputs": []
    },
    {
      "cell_type": "code",
      "source": [
        "ParsBERT = BertModel.from_pretrained('HooshvareLab/bert-fa-base-uncased')\n",
        "# freeze ParsBERT parameters\n",
        "for param in ParsBERT.parameters():\n",
        "    param.requires_grad = False\n",
        "# define a model class\n",
        "class PoemClassifier(nn.Module):\n",
        "    def __init__(self, ParsBERT, num_classes):\n",
        "        super(PoemClassifier, self).__init__()\n",
        "        self.ParsBERT = ParsBERT\n",
        "        self.classifier = nn.Linear(768, num_classes)\n",
        "    \n",
        "    def forward(self, input_ids, attention_mask):\n",
        "        output = self.ParsBERT(input_ids=input_ids, attention_mask=attention_mask)\n",
        "        output = self.classifier(output.pooler_output)\n",
        "        return output"
      ],
      "metadata": {
        "colab": {
          "base_uri": "https://localhost:8080/",
          "height": 153,
          "referenced_widgets": [
            "6c8ca5f0eeeb4d63b4aa02e75a5be445",
            "98065c2089e745c9b71ff81f43597144",
            "8582c2f2795f404eb15d22eeb537d65d",
            "709af33e9c914dcdac938ed6eec236bf",
            "eb284c6aafb0495482b670249b009f91",
            "5762b6c6ac0141b6903a78877dfa38b1",
            "d89354ab265b4e6ea40f9ee8d1e7413b",
            "2187c7397a8f40eca7c73f2bc504553d",
            "288437b9602a4208ad236279778bd54d",
            "628a01aeaf78451baa4ae9f51ca50816",
            "4a2d8c53b62d403e8375d1518dee53a0",
            "d1372dbcfd0b413f9eb0d62720cb5208",
            "ade9fbdba6fb4f299e2cbc01f9d4f57e",
            "99f8e224e80c41dfa1a9ea05cf7016f2",
            "0d9a59947df547358288873270305806",
            "5996d087b5c147e4a5ab530e70430e57",
            "daa0ef4d6dc5474abf977aea28f9dadc",
            "9fd103dd029145e7ba41a89bb5ec538d",
            "2d71aa60c0d14e11ae1832133217706e",
            "82bdc23eca6a435f82f937e3fd658ade",
            "cb9c038662684943807758c5882181b0",
            "e3c14f997d404c5fa25dc7d412efbaff"
          ]
        },
        "id": "S0f_RNpUnznt",
        "outputId": "14715543-afdc-40dd-d6d7-addbaa4fd98f"
      },
      "execution_count": 10,
      "outputs": [
        {
          "output_type": "display_data",
          "data": {
            "text/plain": [
              "Downloading (…)lve/main/config.json:   0%|          | 0.00/440 [00:00<?, ?B/s]"
            ],
            "application/vnd.jupyter.widget-view+json": {
              "version_major": 2,
              "version_minor": 0,
              "model_id": "6c8ca5f0eeeb4d63b4aa02e75a5be445"
            }
          },
          "metadata": {}
        },
        {
          "output_type": "display_data",
          "data": {
            "text/plain": [
              "Downloading (…)\"pytorch_model.bin\";:   0%|          | 0.00/654M [00:00<?, ?B/s]"
            ],
            "application/vnd.jupyter.widget-view+json": {
              "version_major": 2,
              "version_minor": 0,
              "model_id": "d1372dbcfd0b413f9eb0d62720cb5208"
            }
          },
          "metadata": {}
        },
        {
          "output_type": "stream",
          "name": "stderr",
          "text": [
            "Some weights of the model checkpoint at HooshvareLab/bert-fa-base-uncased were not used when initializing BertModel: ['cls.predictions.transform.dense.weight', 'cls.predictions.decoder.weight', 'cls.predictions.bias', 'cls.predictions.decoder.bias', 'cls.predictions.transform.dense.bias', 'cls.seq_relationship.bias', 'cls.seq_relationship.weight', 'cls.predictions.transform.LayerNorm.bias', 'cls.predictions.transform.LayerNorm.weight']\n",
            "- This IS expected if you are initializing BertModel from the checkpoint of a model trained on another task or with another architecture (e.g. initializing a BertForSequenceClassification model from a BertForPreTraining model).\n",
            "- This IS NOT expected if you are initializing BertModel from the checkpoint of a model that you expect to be exactly identical (initializing a BertForSequenceClassification model from a BertForSequenceClassification model).\n"
          ]
        }
      ]
    },
    {
      "cell_type": "code",
      "source": [
        "# define a function for training\n",
        "def train(model, train_loader, val_loader, optimizer, criterion, epochs, device):\n",
        "    train_losses, train_accs, val_losses, val_accs = [], [], [], []\n",
        "    model = model.to(device)\n",
        "    for epoch in range(epochs):\n",
        "        model.train()\n",
        "        train_loss = 0\n",
        "        train_acc = 0\n",
        "        for i, (inputs, labels) in enumerate(train_loader):\n",
        "            inputs = inputs.to(device)\n",
        "            labels = labels.to(device)\n",
        "            optimizer.zero_grad()\n",
        "            outputs = model(input_ids=inputs['input_ids'].squeeze(1).to(device), attention_mask=inputs['attention_mask'].to(device))\n",
        "            loss = criterion(outputs, labels)\n",
        "            loss.backward()\n",
        "            optimizer.step()\n",
        "            train_loss += loss.item()\n",
        "            train_acc += (outputs.argmax(1) == labels).sum().item()\n",
        "        train_loss /= len(train_loader)\n",
        "        train_acc /= len(train_loader.dataset)\n",
        "        val_loss, val_acc = evaluate(model, val_loader, criterion, device)\n",
        "        print(f'Epoch: {epoch+1}/{epochs}, Train Loss: {train_loss:.4f}, Train Acc: {train_acc:.4f}, Val Loss: {val_loss:.4f}, Val Acc: {val_acc:.4f}')\n",
        "        train_losses.append(train_loss)\n",
        "        train_accs.append(train_acc)\n",
        "        val_losses.append(val_loss)\n",
        "        val_accs.append(val_acc)\n",
        "    return train_losses, train_accs, val_losses, val_accs\n",
        "\n",
        "\n",
        "# define a function for evaluating\n",
        "def evaluate(model, val_loader, criterion, device):\n",
        "    model = model.to(device)\n",
        "    model.eval()\n",
        "    val_loss = 0\n",
        "    val_acc = 0\n",
        "    with torch.no_grad():\n",
        "        for i, (inputs, labels) in enumerate(val_loader):\n",
        "            inputs = inputs.to(device)\n",
        "            labels = labels.to(device)\n",
        "            outputs = model(input_ids=inputs['input_ids'].squeeze(1).to(device), attention_mask=inputs['attention_mask'].to(device))\n",
        "            loss = criterion(outputs, labels)\n",
        "            val_loss += loss.item()\n",
        "            val_acc += (outputs.argmax(1) == labels).sum().item()\n",
        "    val_loss /= len(val_loader)\n",
        "    val_acc /= len(val_loader.dataset)\n",
        "    return val_loss, val_acc"
      ],
      "metadata": {
        "id": "k1KvGktrp_lL"
      },
      "execution_count": 11,
      "outputs": []
    },
    {
      "cell_type": "code",
      "source": [
        "# train the model\n",
        "gc.collect()\n",
        "torch.cuda.empty_cache()\n",
        "model = PoemClassifier(ParsBERT, len(selected_poets))\n",
        "optimizer = torch.optim.Adam(model.parameters(), lr=1e-3)\n",
        "criterion = nn.CrossEntropyLoss()\n",
        "train_loss, train_acc, val_loss, val_acc = train(model, train_loader, val_loader, optimizer, criterion, 5, device)"
      ],
      "metadata": {
        "colab": {
          "base_uri": "https://localhost:8080/"
        },
        "id": "wDhK6wFMqNTs",
        "outputId": "299f3c21-ae0e-40cc-9b17-f16f200ab6bb"
      },
      "execution_count": null,
      "outputs": [
        {
          "output_type": "stream",
          "name": "stdout",
          "text": [
            "Epoch: 1/5, Train Loss: 2.2028, Train Acc: 0.1977, Val Loss: 2.1271, Val Acc: 0.2340\n",
            "Epoch: 2/5, Train Loss: 2.1550, Train Acc: 0.2240, Val Loss: 2.1207, Val Acc: 0.2427\n",
            "Epoch: 3/5, Train Loss: 2.1377, Train Acc: 0.2331, Val Loss: 2.1113, Val Acc: 0.2448\n",
            "Epoch: 4/5, Train Loss: 2.1311, Train Acc: 0.2362, Val Loss: 2.0641, Val Acc: 0.2678\n",
            "Epoch: 5/5, Train Loss: 2.1231, Train Acc: 0.2387, Val Loss: 2.0953, Val Acc: 0.2678\n"
          ]
        }
      ]
    },
    {
      "cell_type": "code",
      "source": [
        "# save the model\n",
        "torch.save(model.state_dict(), 'poem_classifier.pt')\n",
        "# test the model\n",
        "test_loss, test_acc = evaluate(model, test_loader, criterion, device)\n",
        "print(f'Test Loss: {test_loss:.4f}, Test Acc: {test_acc:.4f}')"
      ],
      "metadata": {
        "colab": {
          "base_uri": "https://localhost:8080/"
        },
        "id": "X4oDXEmhtEeN",
        "outputId": "ec384024-e263-4534-bde7-21f1ba99896d"
      },
      "execution_count": null,
      "outputs": [
        {
          "output_type": "stream",
          "name": "stdout",
          "text": [
            "Test Loss: 2.1113, Test Acc: 0.2616\n"
          ]
        }
      ]
    },
    {
      "cell_type": "code",
      "source": [
        "# define a function for predicting\n",
        "def predict(model, poem, tokenizer, max_len, device):\n",
        "    model = model.to(device)\n",
        "    model.eval()\n",
        "    poem = tokenizer(poem, padding='max_length', truncation=True, max_length=max_len, return_tensors='pt')\n",
        "    poem = poem.to(device)\n",
        "    output = model(input_ids=poem['input_ids'].squeeze(1), attention_mask=poem['attention_mask'])\n",
        "    return output.argmax(1).item()\n",
        "\n",
        "# report the results, classification report and confusion matrix\n",
        "y_true = []\n",
        "y_pred = []\n",
        "for i, (inputs, labels) in enumerate(test_loader):\n",
        "    inputs = inputs.to(device)\n",
        "    labels = labels.to(device)\n",
        "    outputs = model(input_ids=inputs['input_ids'].squeeze(1).to(device), attention_mask=inputs['attention_mask'].to(device))\n",
        "    y_true.extend(labels.tolist())\n",
        "    y_pred.extend(outputs.argmax(1).tolist())"
      ],
      "metadata": {
        "id": "OT8u6P4I0JDW"
      },
      "execution_count": null,
      "outputs": []
    },
    {
      "cell_type": "code",
      "source": [
        "print(classification_report(y_true, y_pred, target_names=selected_poets.keys()))\n",
        "fig = plt.figure(figsize=(8, 8))\n",
        "ax = sns.heatmap(confusion_matrix(y_true, y_pred), annot=True, linewidth=.5, fmt=\"d\", cmap=\"Blues_r\",\n",
        "                 xticklabels=selected_poets.keys(), yticklabels=selected_poets.keys())\n",
        "plt.show()\n",
        "print(\"f1 score: \", f1_score(y_true, y_pred, average='macro'))"
      ],
      "metadata": {
        "id": "OxWuQoF6LefA",
        "outputId": "ef31866b-d6d9-4911-af77-7d9412a4d356",
        "colab": {
          "base_uri": "https://localhost:8080/",
          "height": 865
        }
      },
      "execution_count": null,
      "outputs": [
        {
          "output_type": "stream",
          "name": "stdout",
          "text": [
            "                precision    recall  f1-score   support\n",
            "\n",
            "        anvari       0.22      0.17      0.19      1381\n",
            "      farrokhi       0.29      0.35      0.32      1241\n",
            "        vahshi       0.00      0.00      0.00      1045\n",
            "   naserkhosro       0.30      0.25      0.27      1074\n",
            "          seyf       0.43      0.06      0.10      1328\n",
            "        nezari       0.22      0.22      0.22      1031\n",
            "        salman       0.22      0.18      0.19      1316\n",
            "         kamal       0.23      0.37      0.29      1431\n",
            "        ouhadi       0.23      0.25      0.24      1435\n",
            "shahnematollah       0.31      0.66      0.42      1472\n",
            "\n",
            "      accuracy                           0.26     12754\n",
            "     macro avg       0.25      0.25      0.22     12754\n",
            "  weighted avg       0.25      0.26      0.23     12754\n",
            "\n"
          ]
        },
        {
          "output_type": "display_data",
          "data": {
            "text/plain": [
              "<Figure size 576x576 with 2 Axes>"
            ],
            "image/png": "[encoded data removed]"
          },
          "metadata": {
            "needs_background": "light"
          }
        },
        {
          "output_type": "stream",
          "name": "stdout",
          "text": [
            "f1 score:  0.22477351150183283\n"
          ]
        }
      ]
    },
    {
      "cell_type": "markdown",
      "source": [
        "Note that because the poems were selected so that their number of beyts are in the same range, the accuracy might seem very low. But if you choose a poet with a high number of beyts, the accuracy might increase to 40%"
      ],
      "metadata": {
        "id": "bZfdCvVKj9Zi"
      }
    },
    {
      "cell_type": "markdown",
      "source": [
        "# Fine-tuning with SGD and Adam"
      ],
      "metadata": {
        "id": "B8ouIoMa1zE6"
      }
    },
    {
      "cell_type": "code",
      "source": [
        "# define another model where ParsBERT is not frozen\n",
        "ParsBERT = BertModel.from_pretrained('HooshvareLab/bert-fa-base-uncased')\n",
        "gc.collect()\n",
        "torch.cuda.empty_cache()\n",
        "model = PoemClassifier(ParsBERT, len(selected_poets))\n",
        "# train the model once with SGD optimizer\n",
        "optimizer = torch.optim.SGD(model.parameters(), lr=5e-4, momentum=0.9)\n",
        "criterion = nn.CrossEntropyLoss()\n",
        "# we want to measure perplexity before and after training. select 1000 unbiased samples from the test set\n",
        "# Get unique labels\n",
        "labels = np.unique(testset[:, 1])\n",
        "# Initialize empty list to store samples\n",
        "samples = []\n",
        "# Loop over unique labels\n",
        "for label in labels:\n",
        "    # Get indices of samples with the current label\n",
        "    indices = np.where(testset[:, 1] == label)[0]\n",
        "    # Randomly select 100 samples from those indices and get the corresponding samples\n",
        "    samples.append(testset[np.random.choice(indices, 100, replace=False)])\n",
        "# Concatenate all samples into a single numpy array\n",
        "samples_dataset = PoemDataset(np.concatenate(samples), tokenizer, max_len)\n",
        "# Create a dataloader for the samples\n",
        "samples_loader = torch.utils.data.DataLoader(samples_dataset, batch_size=32, shuffle=True)\n",
        "# test the model\n",
        "test_loss, test_acc = evaluate(model, samples_loader, criterion, device)\n",
        "# calculate perplexity\n",
        "perplexity = np.exp(test_loss)\n",
        "print(f'Perplexity before training: {perplexity:.4f}')\n",
        "# train the model once with SGD optimizer\n",
        "train_loss, train_acc, val_loss, val_acc = train(model, train_loader, val_loader, optimizer, criterion, 5, device)\n",
        "# save the model\n",
        "torch.save(model.state_dict(), 'poem_classifier_sgd.pt')\n",
        "# test the model\n",
        "test_loss, test_acc = evaluate(model, samples_loader, criterion, device)\n",
        "# calculate perplexity\n",
        "perplexity = np.exp(test_loss)\n",
        "print(f'Perplexity after training: {perplexity:.4f}')\n",
        "print(f'Test Loss: {test_loss:.4f}, Test Acc: {test_acc:.4f}')\n",
        "# report the results, classification report and confusion matrix\n",
        "y_true = []\n",
        "y_pred = []\n",
        "for i, (inputs, labels) in enumerate(test_loader):\n",
        "    inputs = inputs.to(device)\n",
        "    labels = labels.to(device)\n",
        "    outputs = model(input_ids=inputs['input_ids'].squeeze(1).to(device), attention_mask=inputs['attention_mask'].to(device))\n",
        "    y_true.extend(labels.tolist())\n",
        "    y_pred.extend(outputs.argmax(1).tolist())"
      ],
      "metadata": {
        "id": "l91L6Q1W1yZM",
        "colab": {
          "base_uri": "https://localhost:8080/"
        },
        "outputId": "b2e5f9d5-ca42-4acd-902e-73af268b1a78"
      },
      "execution_count": null,
      "outputs": [
        {
          "output_type": "stream",
          "name": "stderr",
          "text": [
            "Some weights of the model checkpoint at HooshvareLab/bert-fa-base-uncased were not used when initializing BertModel: ['cls.predictions.transform.LayerNorm.bias', 'cls.predictions.transform.LayerNorm.weight', 'cls.seq_relationship.bias', 'cls.seq_relationship.weight', 'cls.predictions.transform.dense.bias', 'cls.predictions.transform.dense.weight', 'cls.predictions.bias', 'cls.predictions.decoder.bias', 'cls.predictions.decoder.weight']\n",
            "- This IS expected if you are initializing BertModel from the checkpoint of a model trained on another task or with another architecture (e.g. initializing a BertForSequenceClassification model from a BertForPreTraining model).\n",
            "- This IS NOT expected if you are initializing BertModel from the checkpoint of a model that you expect to be exactly identical (initializing a BertForSequenceClassification model from a BertForSequenceClassification model).\n"
          ]
        },
        {
          "output_type": "stream",
          "name": "stdout",
          "text": [
            "Perplexity before training: 10.4357\n"
          ]
        }
      ]
    },
    {
      "cell_type": "code",
      "source": [
        "print(classification_report(y_true, y_pred, target_names=selected_poets.keys()))\n",
        "fig = plt.figure(figsize=(8, 8))\n",
        "ax = sns.heatmap(confusion_matrix(y_true, y_pred), annot=True, linewidth=.5, fmt=\"d\", cmap=\"Blues_r\",\n",
        "                 xticklabels=selected_poets.keys(), yticklabels=selected_poets.keys())\n",
        "plt.show()\n",
        "print(\"f1 score: \", f1_score(y_true, y_pred, average='macro'))"
      ],
      "metadata": {
        "id": "aCi9eigU-JkP"
      },
      "execution_count": null,
      "outputs": []
    },
    {
      "cell_type": "code",
      "source": [
        "# define another model where ParsBERT is not frozen\n",
        "ParsBERT = BertModel.from_pretrained('HooshvareLab/bert-fa-base-uncased')\n",
        "gc.collect()\n",
        "torch.cuda.empty_cache()\n",
        "model = PoemClassifier(ParsBERT, len(selected_poets))\n",
        "# train the model with Adam optimizer\n",
        "optimizer = torch.optim.Adam(model.parameters(), lr=1e-5)\n",
        "criterion = nn.CrossEntropyLoss()\n",
        "# we want to measure perplexity before and after training. select 1000 unbiased samples from the test set\n",
        "# Get unique labels\n",
        "labels = np.unique(testset[:, 1])\n",
        "# Initialize empty list to store samples\n",
        "samples = []\n",
        "# Loop over unique labels\n",
        "for label in labels:\n",
        "    # Get indices of samples with the current label\n",
        "    indices = np.where(testset[:, 1] == label)[0]\n",
        "    # Randomly select 100 samples from those indices and get the corresponding samples\n",
        "    samples.append(testset[np.random.choice(indices, 100, replace=False)])\n",
        "# Concatenate all samples into a single numpy array\n",
        "samples_dataset = PoemDataset(np.concatenate(samples), tokenizer, max_len)\n",
        "# Create a dataloader for the samples\n",
        "samples_loader = torch.utils.data.DataLoader(samples_dataset, batch_size=32, shuffle=True)\n",
        "# test the model\n",
        "test_loss, test_acc = evaluate(model, samples_loader, criterion, device)\n",
        "# calculate perplexity\n",
        "perplexity = np.exp(test_loss)\n",
        "print(f'Perplexity before training: {perplexity:.4f}')\n",
        "# train the model once with SGD optimizer\n",
        "train_loss, train_acc, val_loss, val_acc = train(model, train_loader, val_loader, optimizer, criterion, 5, device)\n",
        "# save the model\n",
        "torch.save(model.state_dict(), 'poem_classifier_sgd.pt')\n",
        "# test the model\n",
        "test_loss, test_acc = evaluate(model, samples_loader, criterion, device)\n",
        "# calculate perplexity\n",
        "perplexity = np.exp(test_loss)\n",
        "print(f'Perplexity after training: {perplexity:.4f}')\n",
        "print(f'Test Loss: {test_loss:.4f}, Test Acc: {test_acc:.4f}')\n",
        "# report the results, classification report and confusion matrix\n",
        "y_true = []\n",
        "y_pred = []\n",
        "for i, (inputs, labels) in enumerate(test_loader):\n",
        "    inputs = inputs.to(device)\n",
        "    labels = labels.to(device)\n",
        "    outputs = model(input_ids=inputs['input_ids'].squeeze(1).to(device), attention_mask=inputs['attention_mask'].to(device))\n",
        "    y_true.extend(labels.tolist())\n",
        "    y_pred.extend(outputs.argmax(1).tolist())\n"
      ],
      "metadata": {
        "id": "97ZxnKhu12lb",
        "colab": {
          "base_uri": "https://localhost:8080/"
        },
        "outputId": "7a3e2001-02c1-468b-a13a-29641cc0bf33"
      },
      "execution_count": 12,
      "outputs": [
        {
          "output_type": "stream",
          "name": "stderr",
          "text": [
            "Some weights of the model checkpoint at HooshvareLab/bert-fa-base-uncased were not used when initializing BertModel: ['cls.predictions.transform.dense.weight', 'cls.predictions.decoder.weight', 'cls.predictions.bias', 'cls.predictions.decoder.bias', 'cls.predictions.transform.dense.bias', 'cls.seq_relationship.bias', 'cls.seq_relationship.weight', 'cls.predictions.transform.LayerNorm.bias', 'cls.predictions.transform.LayerNorm.weight']\n",
            "- This IS expected if you are initializing BertModel from the checkpoint of a model trained on another task or with another architecture (e.g. initializing a BertForSequenceClassification model from a BertForPreTraining model).\n",
            "- This IS NOT expected if you are initializing BertModel from the checkpoint of a model that you expect to be exactly identical (initializing a BertForSequenceClassification model from a BertForSequenceClassification model).\n"
          ]
        },
        {
          "output_type": "stream",
          "name": "stdout",
          "text": [
            "Perplexity before training: 10.3677\n",
            "Epoch: 1/5, Train Loss: 1.6601, Train Acc: 0.4143, Val Loss: 1.3360, Val Acc: 0.5344\n",
            "Epoch: 2/5, Train Loss: 1.1576, Train Acc: 0.6039, Val Loss: 1.1360, Val Acc: 0.6121\n",
            "Epoch: 3/5, Train Loss: 0.8775, Train Acc: 0.7026, Val Loss: 1.0807, Val Acc: 0.6359\n",
            "Epoch: 4/5, Train Loss: 0.6606, Train Acc: 0.7779, Val Loss: 1.0942, Val Acc: 0.6537\n",
            "Epoch: 5/5, Train Loss: 0.4863, Train Acc: 0.8376, Val Loss: 1.1251, Val Acc: 0.6613\n",
            "Perplexity after training: 3.2597\n",
            "Test Loss: 1.1816, Test Acc: 0.6610\n"
          ]
        }
      ]
    },
    {
      "cell_type": "code",
      "source": [
        "print(classification_report(y_true, y_pred, target_names=selected_poets.keys()))\n",
        "fig = plt.figure(figsize=(8, 8))\n",
        "ax = sns.heatmap(confusion_matrix(y_true, y_pred), annot=True, linewidth=.5, fmt=\"d\", cmap=\"Blues_r\",\n",
        "                 xticklabels=selected_poets.keys(), yticklabels=selected_poets.keys())\n",
        "plt.show()\n",
        "print(\"f1 score: \", f1_score(y_true, y_pred, average='macro'))"
      ],
      "metadata": {
        "colab": {
          "base_uri": "https://localhost:8080/",
          "height": 865
        },
        "id": "0tbH0vxQ1_R9",
        "outputId": "97d1b34e-ec0e-4e80-ceb3-fd611769db4a"
      },
      "execution_count": 13,
      "outputs": [
        {
          "output_type": "stream",
          "name": "stdout",
          "text": [
            "                precision    recall  f1-score   support\n",
            "\n",
            "        anvari       0.50      0.57      0.53      1295\n",
            "      farrokhi       0.70      0.81      0.75      1255\n",
            "        vahshi       0.64      0.53      0.58      1062\n",
            "   naserkhosro       0.78      0.75      0.77      1041\n",
            "          seyf       0.65      0.78      0.71      1221\n",
            "        nezari       0.70      0.55      0.62      1023\n",
            "        salman       0.57      0.55      0.56      1285\n",
            "         kamal       0.65      0.61      0.63      1514\n",
            "        ouhadi       0.61      0.60      0.60      1529\n",
            "shahnematollah       0.85      0.84      0.84      1529\n",
            "\n",
            "      accuracy                           0.66     12754\n",
            "     macro avg       0.66      0.66      0.66     12754\n",
            "  weighted avg       0.66      0.66      0.66     12754\n",
            "\n"
          ]
        },
        {
          "output_type": "display_data",
          "data": {
            "text/plain": [
              "<Figure size 576x576 with 2 Axes>"
            ],
            "image/png": "[encoded data removed]"
          },
          "metadata": {
            "needs_background": "light"
          }
        },
        {
          "output_type": "stream",
          "name": "stdout",
          "text": [
            "f1 score:  0.6590561406821985\n"
          ]
        }
      ]
    }
  ],
  "metadata": {
    "language_info": {
      "name": "python"
    },
    "orig_nbformat": 4,
    "colab": {
      "provenance": [],
      "include_colab_link": true
    },
    "kernelspec": {
      "name": "python3",
      "display_name": "Python 3"
    },
    "gpuClass": "standard",
    "accelerator": "GPU",
    "widgets": {
      "application/vnd.jupyter.widget-state+json": {
        "4d60db9e0b984e508f8a51c304a05e61": {
          "model_module": "@jupyter-widgets/controls",
          "model_name": "HBoxModel",
          "model_module_version": "1.5.0",
          "state": {
            "_dom_classes": [],
            "_model_module": "@jupyter-widgets/controls",
            "_model_module_version": "1.5.0",
            "_model_name": "HBoxModel",
            "_view_count": null,
            "_view_module": "@jupyter-widgets/controls",
            "_view_module_version": "1.5.0",
            "_view_name": "HBoxView",
            "box_style": "",
            "children": [
              "IPY_MODEL_a72f60baba734fc8b05a996a9d2b6f95",
              "IPY_MODEL_2ff65b7a13624b27806ff50ec02cab4f",
              "IPY_MODEL_9c1a8bd8ca5844ed8717815f5cafac3b"
            ],
            "layout": "IPY_MODEL_45f1cf0ee4144c7b9ded2b3f52c7b044"
          }
        },
        "a72f60baba734fc8b05a996a9d2b6f95": {
          "model_module": "@jupyter-widgets/controls",
          "model_name": "HTMLModel",
          "model_module_version": "1.5.0",
          "state": {
            "_dom_classes": [],
            "_model_module": "@jupyter-widgets/controls",
            "_model_module_version": "1.5.0",
            "_model_name": "HTMLModel",
            "_view_count": null,
            "_view_module": "@jupyter-widgets/controls",
            "_view_module_version": "1.5.0",
            "_view_name": "HTMLView",
            "description": "",
            "description_tooltip": null,
            "layout": "IPY_MODEL_f7ecb99100404f53ad9b6ca43ce741bc",
            "placeholder": "​",
            "style": "IPY_MODEL_b24d8e4ab289461fb75e2c2a8d798900",
            "value": "Downloading (…)solve/main/vocab.txt: 100%"
          }
        },
        "2ff65b7a13624b27806ff50ec02cab4f": {
          "model_module": "@jupyter-widgets/controls",
          "model_name": "FloatProgressModel",
          "model_module_version": "1.5.0",
          "state": {
            "_dom_classes": [],
            "_model_module": "@jupyter-widgets/controls",
            "_model_module_version": "1.5.0",
            "_model_name": "FloatProgressModel",
            "_view_count": null,
            "_view_module": "@jupyter-widgets/controls",
            "_view_module_version": "1.5.0",
            "_view_name": "ProgressView",
            "bar_style": "success",
            "description": "",
            "description_tooltip": null,
            "layout": "IPY_MODEL_495538873db8474c9750f42483e79cdc",
            "max": 1215509,
            "min": 0,
            "orientation": "horizontal",
            "style": "IPY_MODEL_c93193f6fcfc4dc6aeccdf909a2b61b0",
            "value": 1215509
          }
        },
        "9c1a8bd8ca5844ed8717815f5cafac3b": {
          "model_module": "@jupyter-widgets/controls",
          "model_name": "HTMLModel",
          "model_module_version": "1.5.0",
          "state": {
            "_dom_classes": [],
            "_model_module": "@jupyter-widgets/controls",
            "_model_module_version": "1.5.0",
            "_model_name": "HTMLModel",
            "_view_count": null,
            "_view_module": "@jupyter-widgets/controls",
            "_view_module_version": "1.5.0",
            "_view_name": "HTMLView",
            "description": "",
            "description_tooltip": null,
            "layout": "IPY_MODEL_38991316501b4c1bb6b8cb58a5690b43",
            "placeholder": "​",
            "style": "IPY_MODEL_2baca0376d8a43e4aefd64833382938d",
            "value": " 1.22M/1.22M [00:01&lt;00:00, 894kB/s]"
          }
        },
        "45f1cf0ee4144c7b9ded2b3f52c7b044": {
          "model_module": "@jupyter-widgets/base",
          "model_name": "LayoutModel",
          "model_module_version": "1.2.0",
          "state": {
            "_model_module": "@jupyter-widgets/base",
            "_model_module_version": "1.2.0",
            "_model_name": "LayoutModel",
            "_view_count": null,
            "_view_module": "@jupyter-widgets/base",
            "_view_module_version": "1.2.0",
            "_view_name": "LayoutView",
            "align_content": null,
            "align_items": null,
            "align_self": null,
            "border": null,
            "bottom": null,
            "display": null,
            "flex": null,
            "flex_flow": null,
            "grid_area": null,
            "grid_auto_columns": null,
            "grid_auto_flow": null,
            "grid_auto_rows": null,
            "grid_column": null,
            "grid_gap": null,
            "grid_row": null,
            "grid_template_areas": null,
            "grid_template_columns": null,
            "grid_template_rows": null,
            "height": null,
            "justify_content": null,
            "justify_items": null,
            "left": null,
            "margin": null,
            "max_height": null,
            "max_width": null,
            "min_height": null,
            "min_width": null,
            "object_fit": null,
            "object_position": null,
            "order": null,
            "overflow": null,
            "overflow_x": null,
            "overflow_y": null,
            "padding": null,
            "right": null,
            "top": null,
            "visibility": null,
            "width": null
          }
        },
        "f7ecb99100404f53ad9b6ca43ce741bc": {
          "model_module": "@jupyter-widgets/base",
          "model_name": "LayoutModel",
          "model_module_version": "1.2.0",
          "state": {
            "_model_module": "@jupyter-widgets/base",
            "_model_module_version": "1.2.0",
            "_model_name": "LayoutModel",
            "_view_count": null,
            "_view_module": "@jupyter-widgets/base",
            "_view_module_version": "1.2.0",
            "_view_name": "LayoutView",
            "align_content": null,
            "align_items": null,
            "align_self": null,
            "border": null,
            "bottom": null,
            "display": null,
            "flex": null,
            "flex_flow": null,
            "grid_area": null,
            "grid_auto_columns": null,
            "grid_auto_flow": null,
            "grid_auto_rows": null,
            "grid_column": null,
            "grid_gap": null,
            "grid_row": null,
            "grid_template_areas": null,
            "grid_template_columns": null,
            "grid_template_rows": null,
            "height": null,
            "justify_content": null,
            "justify_items": null,
            "left": null,
            "margin": null,
            "max_height": null,
            "max_width": null,
            "min_height": null,
            "min_width": null,
            "object_fit": null,
            "object_position": null,
            "order": null,
            "overflow": null,
            "overflow_x": null,
            "overflow_y": null,
            "padding": null,
            "right": null,
            "top": null,
            "visibility": null,
            "width": null
          }
        },
        "b24d8e4ab289461fb75e2c2a8d798900": {
          "model_module": "@jupyter-widgets/controls",
          "model_name": "DescriptionStyleModel",
          "model_module_version": "1.5.0",
          "state": {
            "_model_module": "@jupyter-widgets/controls",
            "_model_module_version": "1.5.0",
            "_model_name": "DescriptionStyleModel",
            "_view_count": null,
            "_view_module": "@jupyter-widgets/base",
            "_view_module_version": "1.2.0",
            "_view_name": "StyleView",
            "description_width": ""
          }
        },
        "495538873db8474c9750f42483e79cdc": {
          "model_module": "@jupyter-widgets/base",
          "model_name": "LayoutModel",
          "model_module_version": "1.2.0",
          "state": {
            "_model_module": "@jupyter-widgets/base",
            "_model_module_version": "1.2.0",
            "_model_name": "LayoutModel",
            "_view_count": null,
            "_view_module": "@jupyter-widgets/base",
            "_view_module_version": "1.2.0",
            "_view_name": "LayoutView",
            "align_content": null,
            "align_items": null,
            "align_self": null,
            "border": null,
            "bottom": null,
            "display": null,
            "flex": null,
            "flex_flow": null,
            "grid_area": null,
            "grid_auto_columns": null,
            "grid_auto_flow": null,
            "grid_auto_rows": null,
            "grid_column": null,
            "grid_gap": null,
            "grid_row": null,
            "grid_template_areas": null,
            "grid_template_columns": null,
            "grid_template_rows": null,
            "height": null,
            "justify_content": null,
            "justify_items": null,
            "left": null,
            "margin": null,
            "max_height": null,
            "max_width": null,
            "min_height": null,
            "min_width": null,
            "object_fit": null,
            "object_position": null,
            "order": null,
            "overflow": null,
            "overflow_x": null,
            "overflow_y": null,
            "padding": null,
            "right": null,
            "top": null,
            "visibility": null,
            "width": null
          }
        },
        "c93193f6fcfc4dc6aeccdf909a2b61b0": {
          "model_module": "@jupyter-widgets/controls",
          "model_name": "ProgressStyleModel",
          "model_module_version": "1.5.0",
          "state": {
            "_model_module": "@jupyter-widgets/controls",
            "_model_module_version": "1.5.0",
            "_model_name": "ProgressStyleModel",
            "_view_count": null,
            "_view_module": "@jupyter-widgets/base",
            "_view_module_version": "1.2.0",
            "_view_name": "StyleView",
            "bar_color": null,
            "description_width": ""
          }
        },
        "38991316501b4c1bb6b8cb58a5690b43": {
          "model_module": "@jupyter-widgets/base",
          "model_name": "LayoutModel",
          "model_module_version": "1.2.0",
          "state": {
            "_model_module": "@jupyter-widgets/base",
            "_model_module_version": "1.2.0",
            "_model_name": "LayoutModel",
            "_view_count": null,
            "_view_module": "@jupyter-widgets/base",
            "_view_module_version": "1.2.0",
            "_view_name": "LayoutView",
            "align_content": null,
            "align_items": null,
            "align_self": null,
            "border": null,
            "bottom": null,
            "display": null,
            "flex": null,
            "flex_flow": null,
            "grid_area": null,
            "grid_auto_columns": null,
            "grid_auto_flow": null,
            "grid_auto_rows": null,
            "grid_column": null,
            "grid_gap": null,
            "grid_row": null,
            "grid_template_areas": null,
            "grid_template_columns": null,
            "grid_template_rows": null,
            "height": null,
            "justify_content": null,
            "justify_items": null,
            "left": null,
            "margin": null,
            "max_height": null,
            "max_width": null,
            "min_height": null,
            "min_width": null,
            "object_fit": null,
            "object_position": null,
            "order": null,
            "overflow": null,
            "overflow_x": null,
            "overflow_y": null,
            "padding": null,
            "right": null,
            "top": null,
            "visibility": null,
            "width": null
          }
        },
        "2baca0376d8a43e4aefd64833382938d": {
          "model_module": "@jupyter-widgets/controls",
          "model_name": "DescriptionStyleModel",
          "model_module_version": "1.5.0",
          "state": {
            "_model_module": "@jupyter-widgets/controls",
            "_model_module_version": "1.5.0",
            "_model_name": "DescriptionStyleModel",
            "_view_count": null,
            "_view_module": "@jupyter-widgets/base",
            "_view_module_version": "1.2.0",
            "_view_name": "StyleView",
            "description_width": ""
          }
        },
        "1f1ce8e7cecd4d48924247f05ca11492": {
          "model_module": "@jupyter-widgets/controls",
          "model_name": "HBoxModel",
          "model_module_version": "1.5.0",
          "state": {
            "_dom_classes": [],
            "_model_module": "@jupyter-widgets/controls",
            "_model_module_version": "1.5.0",
            "_model_name": "HBoxModel",
            "_view_count": null,
            "_view_module": "@jupyter-widgets/controls",
            "_view_module_version": "1.5.0",
            "_view_name": "HBoxView",
            "box_style": "",
            "children": [
              "IPY_MODEL_54fc9e48d11e4c50a36bde42a83ceb12",
              "IPY_MODEL_5b603bfd480543be8e7b39900c02fcb0",
              "IPY_MODEL_970c752ab5294aa2a4b89161f2281506"
            ],
            "layout": "IPY_MODEL_5dca42f3ae344f1aaf2233591663326d"
          }
        },
        "54fc9e48d11e4c50a36bde42a83ceb12": {
          "model_module": "@jupyter-widgets/controls",
          "model_name": "HTMLModel",
          "model_module_version": "1.5.0",
          "state": {
            "_dom_classes": [],
            "_model_module": "@jupyter-widgets/controls",
            "_model_module_version": "1.5.0",
            "_model_name": "HTMLModel",
            "_view_count": null,
            "_view_module": "@jupyter-widgets/controls",
            "_view_module_version": "1.5.0",
            "_view_name": "HTMLView",
            "description": "",
            "description_tooltip": null,
            "layout": "IPY_MODEL_817b552ab0ba47b08cf2c583eca7ee94",
            "placeholder": "​",
            "style": "IPY_MODEL_8f6856d7a0784b1c8edf31a15eed0c7e",
            "value": "Downloading (…)lve/main/config.json: 100%"
          }
        },
        "5b603bfd480543be8e7b39900c02fcb0": {
          "model_module": "@jupyter-widgets/controls",
          "model_name": "FloatProgressModel",
          "model_module_version": "1.5.0",
          "state": {
            "_dom_classes": [],
            "_model_module": "@jupyter-widgets/controls",
            "_model_module_version": "1.5.0",
            "_model_name": "FloatProgressModel",
            "_view_count": null,
            "_view_module": "@jupyter-widgets/controls",
            "_view_module_version": "1.5.0",
            "_view_name": "ProgressView",
            "bar_style": "success",
            "description": "",
            "description_tooltip": null,
            "layout": "IPY_MODEL_9f9d98607a1c4ced8b11fe37c3120283",
            "max": 434,
            "min": 0,
            "orientation": "horizontal",
            "style": "IPY_MODEL_64f2c5a1b8f34bbba8819f8256192471",
            "value": 434
          }
        },
        "970c752ab5294aa2a4b89161f2281506": {
          "model_module": "@jupyter-widgets/controls",
          "model_name": "HTMLModel",
          "model_module_version": "1.5.0",
          "state": {
            "_dom_classes": [],
            "_model_module": "@jupyter-widgets/controls",
            "_model_module_version": "1.5.0",
            "_model_name": "HTMLModel",
            "_view_count": null,
            "_view_module": "@jupyter-widgets/controls",
            "_view_module_version": "1.5.0",
            "_view_name": "HTMLView",
            "description": "",
            "description_tooltip": null,
            "layout": "IPY_MODEL_fd883a99f16c4cf38b257351e81e882e",
            "placeholder": "​",
            "style": "IPY_MODEL_7a7d316586b449bda4fb4194e9190f2f",
            "value": " 434/434 [00:00&lt;00:00, 15.3kB/s]"
          }
        },
        "5dca42f3ae344f1aaf2233591663326d": {
          "model_module": "@jupyter-widgets/base",
          "model_name": "LayoutModel",
          "model_module_version": "1.2.0",
          "state": {
            "_model_module": "@jupyter-widgets/base",
            "_model_module_version": "1.2.0",
            "_model_name": "LayoutModel",
            "_view_count": null,
            "_view_module": "@jupyter-widgets/base",
            "_view_module_version": "1.2.0",
            "_view_name": "LayoutView",
            "align_content": null,
            "align_items": null,
            "align_self": null,
            "border": null,
            "bottom": null,
            "display": null,
            "flex": null,
            "flex_flow": null,
            "grid_area": null,
            "grid_auto_columns": null,
            "grid_auto_flow": null,
            "grid_auto_rows": null,
            "grid_column": null,
            "grid_gap": null,
            "grid_row": null,
            "grid_template_areas": null,
            "grid_template_columns": null,
            "grid_template_rows": null,
            "height": null,
            "justify_content": null,
            "justify_items": null,
            "left": null,
            "margin": null,
            "max_height": null,
            "max_width": null,
            "min_height": null,
            "min_width": null,
            "object_fit": null,
            "object_position": null,
            "order": null,
            "overflow": null,
            "overflow_x": null,
            "overflow_y": null,
            "padding": null,
            "right": null,
            "top": null,
            "visibility": null,
            "width": null
          }
        },
        "817b552ab0ba47b08cf2c583eca7ee94": {
          "model_module": "@jupyter-widgets/base",
          "model_name": "LayoutModel",
          "model_module_version": "1.2.0",
          "state": {
            "_model_module": "@jupyter-widgets/base",
            "_model_module_version": "1.2.0",
            "_model_name": "LayoutModel",
            "_view_count": null,
            "_view_module": "@jupyter-widgets/base",
            "_view_module_version": "1.2.0",
            "_view_name": "LayoutView",
            "align_content": null,
            "align_items": null,
            "align_self": null,
            "border": null,
            "bottom": null,
            "display": null,
            "flex": null,
            "flex_flow": null,
            "grid_area": null,
            "grid_auto_columns": null,
            "grid_auto_flow": null,
            "grid_auto_rows": null,
            "grid_column": null,
            "grid_gap": null,
            "grid_row": null,
            "grid_template_areas": null,
            "grid_template_columns": null,
            "grid_template_rows": null,
            "height": null,
            "justify_content": null,
            "justify_items": null,
            "left": null,
            "margin": null,
            "max_height": null,
            "max_width": null,
            "min_height": null,
            "min_width": null,
            "object_fit": null,
            "object_position": null,
            "order": null,
            "overflow": null,
            "overflow_x": null,
            "overflow_y": null,
            "padding": null,
            "right": null,
            "top": null,
            "visibility": null,
            "width": null
          }
        },
        "8f6856d7a0784b1c8edf31a15eed0c7e": {
          "model_module": "@jupyter-widgets/controls",
          "model_name": "DescriptionStyleModel",
          "model_module_version": "1.5.0",
          "state": {
            "_model_module": "@jupyter-widgets/controls",
            "_model_module_version": "1.5.0",
            "_model_name": "DescriptionStyleModel",
            "_view_count": null,
            "_view_module": "@jupyter-widgets/base",
            "_view_module_version": "1.2.0",
            "_view_name": "StyleView",
            "description_width": ""
          }
        },
        "9f9d98607a1c4ced8b11fe37c3120283": {
          "model_module": "@jupyter-widgets/base",
          "model_name": "LayoutModel",
          "model_module_version": "1.2.0",
          "state": {
            "_model_module": "@jupyter-widgets/base",
            "_model_module_version": "1.2.0",
            "_model_name": "LayoutModel",
            "_view_count": null,
            "_view_module": "@jupyter-widgets/base",
            "_view_module_version": "1.2.0",
            "_view_name": "LayoutView",
            "align_content": null,
            "align_items": null,
            "align_self": null,
            "border": null,
            "bottom": null,
            "display": null,
            "flex": null,
            "flex_flow": null,
            "grid_area": null,
            "grid_auto_columns": null,
            "grid_auto_flow": null,
            "grid_auto_rows": null,
            "grid_column": null,
            "grid_gap": null,
            "grid_row": null,
            "grid_template_areas": null,
            "grid_template_columns": null,
            "grid_template_rows": null,
            "height": null,
            "justify_content": null,
            "justify_items": null,
            "left": null,
            "margin": null,
            "max_height": null,
            "max_width": null,
            "min_height": null,
            "min_width": null,
            "object_fit": null,
            "object_position": null,
            "order": null,
            "overflow": null,
            "overflow_x": null,
            "overflow_y": null,
            "padding": null,
            "right": null,
            "top": null,
            "visibility": null,
            "width": null
          }
        },
        "64f2c5a1b8f34bbba8819f8256192471": {
          "model_module": "@jupyter-widgets/controls",
          "model_name": "ProgressStyleModel",
          "model_module_version": "1.5.0",
          "state": {
            "_model_module": "@jupyter-widgets/controls",
            "_model_module_version": "1.5.0",
            "_model_name": "ProgressStyleModel",
            "_view_count": null,
            "_view_module": "@jupyter-widgets/base",
            "_view_module_version": "1.2.0",
            "_view_name": "StyleView",
            "bar_color": null,
            "description_width": ""
          }
        },
        "fd883a99f16c4cf38b257351e81e882e": {
          "model_module": "@jupyter-widgets/base",
          "model_name": "LayoutModel",
          "model_module_version": "1.2.0",
          "state": {
            "_model_module": "@jupyter-widgets/base",
            "_model_module_version": "1.2.0",
            "_model_name": "LayoutModel",
            "_view_count": null,
            "_view_module": "@jupyter-widgets/base",
            "_view_module_version": "1.2.0",
            "_view_name": "LayoutView",
            "align_content": null,
            "align_items": null,
            "align_self": null,
            "border": null,
            "bottom": null,
            "display": null,
            "flex": null,
            "flex_flow": null,
            "grid_area": null,
            "grid_auto_columns": null,
            "grid_auto_flow": null,
            "grid_auto_rows": null,
            "grid_column": null,
            "grid_gap": null,
            "grid_row": null,
            "grid_template_areas": null,
            "grid_template_columns": null,
            "grid_template_rows": null,
            "height": null,
            "justify_content": null,
            "justify_items": null,
            "left": null,
            "margin": null,
            "max_height": null,
            "max_width": null,
            "min_height": null,
            "min_width": null,
            "object_fit": null,
            "object_position": null,
            "order": null,
            "overflow": null,
            "overflow_x": null,
            "overflow_y": null,
            "padding": null,
            "right": null,
            "top": null,
            "visibility": null,
            "width": null
          }
        },
        "7a7d316586b449bda4fb4194e9190f2f": {
          "model_module": "@jupyter-widgets/controls",
          "model_name": "DescriptionStyleModel",
          "model_module_version": "1.5.0",
          "state": {
            "_model_module": "@jupyter-widgets/controls",
            "_model_module_version": "1.5.0",
            "_model_name": "DescriptionStyleModel",
            "_view_count": null,
            "_view_module": "@jupyter-widgets/base",
            "_view_module_version": "1.2.0",
            "_view_name": "StyleView",
            "description_width": ""
          }
        },
        "6c8ca5f0eeeb4d63b4aa02e75a5be445": {
          "model_module": "@jupyter-widgets/controls",
          "model_name": "HBoxModel",
          "model_module_version": "1.5.0",
          "state": {
            "_dom_classes": [],
            "_model_module": "@jupyter-widgets/controls",
            "_model_module_version": "1.5.0",
            "_model_name": "HBoxModel",
            "_view_count": null,
            "_view_module": "@jupyter-widgets/controls",
            "_view_module_version": "1.5.0",
            "_view_name": "HBoxView",
            "box_style": "",
            "children": [
              "IPY_MODEL_98065c2089e745c9b71ff81f43597144",
              "IPY_MODEL_8582c2f2795f404eb15d22eeb537d65d",
              "IPY_MODEL_709af33e9c914dcdac938ed6eec236bf"
            ],
            "layout": "IPY_MODEL_eb284c6aafb0495482b670249b009f91"
          }
        },
        "98065c2089e745c9b71ff81f43597144": {
          "model_module": "@jupyter-widgets/controls",
          "model_name": "HTMLModel",
          "model_module_version": "1.5.0",
          "state": {
            "_dom_classes": [],
            "_model_module": "@jupyter-widgets/controls",
            "_model_module_version": "1.5.0",
            "_model_name": "HTMLModel",
            "_view_count": null,
            "_view_module": "@jupyter-widgets/controls",
            "_view_module_version": "1.5.0",
            "_view_name": "HTMLView",
            "description": "",
            "description_tooltip": null,
            "layout": "IPY_MODEL_5762b6c6ac0141b6903a78877dfa38b1",
            "placeholder": "​",
            "style": "IPY_MODEL_d89354ab265b4e6ea40f9ee8d1e7413b",
            "value": "Downloading (…)lve/main/config.json: 100%"
          }
        },
        "8582c2f2795f404eb15d22eeb537d65d": {
          "model_module": "@jupyter-widgets/controls",
          "model_name": "FloatProgressModel",
          "model_module_version": "1.5.0",
          "state": {
            "_dom_classes": [],
            "_model_module": "@jupyter-widgets/controls",
            "_model_module_version": "1.5.0",
            "_model_name": "FloatProgressModel",
            "_view_count": null,
            "_view_module": "@jupyter-widgets/controls",
            "_view_module_version": "1.5.0",
            "_view_name": "ProgressView",
            "bar_style": "success",
            "description": "",
            "description_tooltip": null,
            "layout": "IPY_MODEL_2187c7397a8f40eca7c73f2bc504553d",
            "max": 440,
            "min": 0,
            "orientation": "horizontal",
            "style": "IPY_MODEL_288437b9602a4208ad236279778bd54d",
            "value": 440
          }
        },
        "709af33e9c914dcdac938ed6eec236bf": {
          "model_module": "@jupyter-widgets/controls",
          "model_name": "HTMLModel",
          "model_module_version": "1.5.0",
          "state": {
            "_dom_classes": [],
            "_model_module": "@jupyter-widgets/controls",
            "_model_module_version": "1.5.0",
            "_model_name": "HTMLModel",
            "_view_count": null,
            "_view_module": "@jupyter-widgets/controls",
            "_view_module_version": "1.5.0",
            "_view_name": "HTMLView",
            "description": "",
            "description_tooltip": null,
            "layout": "IPY_MODEL_628a01aeaf78451baa4ae9f51ca50816",
            "placeholder": "​",
            "style": "IPY_MODEL_4a2d8c53b62d403e8375d1518dee53a0",
            "value": " 440/440 [00:00&lt;00:00, 15.0kB/s]"
          }
        },
        "eb284c6aafb0495482b670249b009f91": {
          "model_module": "@jupyter-widgets/base",
          "model_name": "LayoutModel",
          "model_module_version": "1.2.0",
          "state": {
            "_model_module": "@jupyter-widgets/base",
            "_model_module_version": "1.2.0",
            "_model_name": "LayoutModel",
            "_view_count": null,
            "_view_module": "@jupyter-widgets/base",
            "_view_module_version": "1.2.0",
            "_view_name": "LayoutView",
            "align_content": null,
            "align_items": null,
            "align_self": null,
            "border": null,
            "bottom": null,
            "display": null,
            "flex": null,
            "flex_flow": null,
            "grid_area": null,
            "grid_auto_columns": null,
            "grid_auto_flow": null,
            "grid_auto_rows": null,
            "grid_column": null,
            "grid_gap": null,
            "grid_row": null,
            "grid_template_areas": null,
            "grid_template_columns": null,
            "grid_template_rows": null,
            "height": null,
            "justify_content": null,
            "justify_items": null,
            "left": null,
            "margin": null,
            "max_height": null,
            "max_width": null,
            "min_height": null,
            "min_width": null,
            "object_fit": null,
            "object_position": null,
            "order": null,
            "overflow": null,
            "overflow_x": null,
            "overflow_y": null,
            "padding": null,
            "right": null,
            "top": null,
            "visibility": null,
            "width": null
          }
        },
        "5762b6c6ac0141b6903a78877dfa38b1": {
          "model_module": "@jupyter-widgets/base",
          "model_name": "LayoutModel",
          "model_module_version": "1.2.0",
          "state": {
            "_model_module": "@jupyter-widgets/base",
            "_model_module_version": "1.2.0",
            "_model_name": "LayoutModel",
            "_view_count": null,
            "_view_module": "@jupyter-widgets/base",
            "_view_module_version": "1.2.0",
            "_view_name": "LayoutView",
            "align_content": null,
            "align_items": null,
            "align_self": null,
            "border": null,
            "bottom": null,
            "display": null,
            "flex": null,
            "flex_flow": null,
            "grid_area": null,
            "grid_auto_columns": null,
            "grid_auto_flow": null,
            "grid_auto_rows": null,
            "grid_column": null,
            "grid_gap": null,
            "grid_row": null,
            "grid_template_areas": null,
            "grid_template_columns": null,
            "grid_template_rows": null,
            "height": null,
            "justify_content": null,
            "justify_items": null,
            "left": null,
            "margin": null,
            "max_height": null,
            "max_width": null,
            "min_height": null,
            "min_width": null,
            "object_fit": null,
            "object_position": null,
            "order": null,
            "overflow": null,
            "overflow_x": null,
            "overflow_y": null,
            "padding": null,
            "right": null,
            "top": null,
            "visibility": null,
            "width": null
          }
        },
        "d89354ab265b4e6ea40f9ee8d1e7413b": {
          "model_module": "@jupyter-widgets/controls",
          "model_name": "DescriptionStyleModel",
          "model_module_version": "1.5.0",
          "state": {
            "_model_module": "@jupyter-widgets/controls",
            "_model_module_version": "1.5.0",
            "_model_name": "DescriptionStyleModel",
            "_view_count": null,
            "_view_module": "@jupyter-widgets/base",
            "_view_module_version": "1.2.0",
            "_view_name": "StyleView",
            "description_width": ""
          }
        },
        "2187c7397a8f40eca7c73f2bc504553d": {
          "model_module": "@jupyter-widgets/base",
          "model_name": "LayoutModel",
          "model_module_version": "1.2.0",
          "state": {
            "_model_module": "@jupyter-widgets/base",
            "_model_module_version": "1.2.0",
            "_model_name": "LayoutModel",
            "_view_count": null,
            "_view_module": "@jupyter-widgets/base",
            "_view_module_version": "1.2.0",
            "_view_name": "LayoutView",
            "align_content": null,
            "align_items": null,
            "align_self": null,
            "border": null,
            "bottom": null,
            "display": null,
            "flex": null,
            "flex_flow": null,
            "grid_area": null,
            "grid_auto_columns": null,
            "grid_auto_flow": null,
            "grid_auto_rows": null,
            "grid_column": null,
            "grid_gap": null,
            "grid_row": null,
            "grid_template_areas": null,
            "grid_template_columns": null,
            "grid_template_rows": null,
            "height": null,
            "justify_content": null,
            "justify_items": null,
            "left": null,
            "margin": null,
            "max_height": null,
            "max_width": null,
            "min_height": null,
            "min_width": null,
            "object_fit": null,
            "object_position": null,
            "order": null,
            "overflow": null,
            "overflow_x": null,
            "overflow_y": null,
            "padding": null,
            "right": null,
            "top": null,
            "visibility": null,
            "width": null
          }
        },
        "288437b9602a4208ad236279778bd54d": {
          "model_module": "@jupyter-widgets/controls",
          "model_name": "ProgressStyleModel",
          "model_module_version": "1.5.0",
          "state": {
            "_model_module": "@jupyter-widgets/controls",
            "_model_module_version": "1.5.0",
            "_model_name": "ProgressStyleModel",
            "_view_count": null,
            "_view_module": "@jupyter-widgets/base",
            "_view_module_version": "1.2.0",
            "_view_name": "StyleView",
            "bar_color": null,
            "description_width": ""
          }
        },
        "628a01aeaf78451baa4ae9f51ca50816": {
          "model_module": "@jupyter-widgets/base",
          "model_name": "LayoutModel",
          "model_module_version": "1.2.0",
          "state": {
            "_model_module": "@jupyter-widgets/base",
            "_model_module_version": "1.2.0",
            "_model_name": "LayoutModel",
            "_view_count": null,
            "_view_module": "@jupyter-widgets/base",
            "_view_module_version": "1.2.0",
            "_view_name": "LayoutView",
            "align_content": null,
            "align_items": null,
            "align_self": null,
            "border": null,
            "bottom": null,
            "display": null,
            "flex": null,
            "flex_flow": null,
            "grid_area": null,
            "grid_auto_columns": null,
            "grid_auto_flow": null,
            "grid_auto_rows": null,
            "grid_column": null,
            "grid_gap": null,
            "grid_row": null,
            "grid_template_areas": null,
            "grid_template_columns": null,
            "grid_template_rows": null,
            "height": null,
            "justify_content": null,
            "justify_items": null,
            "left": null,
            "margin": null,
            "max_height": null,
            "max_width": null,
            "min_height": null,
            "min_width": null,
            "object_fit": null,
            "object_position": null,
            "order": null,
            "overflow": null,
            "overflow_x": null,
            "overflow_y": null,
            "padding": null,
            "right": null,
            "top": null,
            "visibility": null,
            "width": null
          }
        },
        "4a2d8c53b62d403e8375d1518dee53a0": {
          "model_module": "@jupyter-widgets/controls",
          "model_name": "DescriptionStyleModel",
          "model_module_version": "1.5.0",
          "state": {
            "_model_module": "@jupyter-widgets/controls",
            "_model_module_version": "1.5.0",
            "_model_name": "DescriptionStyleModel",
            "_view_count": null,
            "_view_module": "@jupyter-widgets/base",
            "_view_module_version": "1.2.0",
            "_view_name": "StyleView",
            "description_width": ""
          }
        },
        "d1372dbcfd0b413f9eb0d62720cb5208": {
          "model_module": "@jupyter-widgets/controls",
          "model_name": "HBoxModel",
          "model_module_version": "1.5.0",
          "state": {
            "_dom_classes": [],
            "_model_module": "@jupyter-widgets/controls",
            "_model_module_version": "1.5.0",
            "_model_name": "HBoxModel",
            "_view_count": null,
            "_view_module": "@jupyter-widgets/controls",
            "_view_module_version": "1.5.0",
            "_view_name": "HBoxView",
            "box_style": "",
            "children": [
              "IPY_MODEL_ade9fbdba6fb4f299e2cbc01f9d4f57e",
              "IPY_MODEL_99f8e224e80c41dfa1a9ea05cf7016f2",
              "IPY_MODEL_0d9a59947df547358288873270305806"
            ],
            "layout": "IPY_MODEL_5996d087b5c147e4a5ab530e70430e57"
          }
        },
        "ade9fbdba6fb4f299e2cbc01f9d4f57e": {
          "model_module": "@jupyter-widgets/controls",
          "model_name": "HTMLModel",
          "model_module_version": "1.5.0",
          "state": {
            "_dom_classes": [],
            "_model_module": "@jupyter-widgets/controls",
            "_model_module_version": "1.5.0",
            "_model_name": "HTMLModel",
            "_view_count": null,
            "_view_module": "@jupyter-widgets/controls",
            "_view_module_version": "1.5.0",
            "_view_name": "HTMLView",
            "description": "",
            "description_tooltip": null,
            "layout": "IPY_MODEL_daa0ef4d6dc5474abf977aea28f9dadc",
            "placeholder": "​",
            "style": "IPY_MODEL_9fd103dd029145e7ba41a89bb5ec538d",
            "value": "Downloading (…)&quot;pytorch_model.bin&quot;;: 100%"
          }
        },
        "99f8e224e80c41dfa1a9ea05cf7016f2": {
          "model_module": "@jupyter-widgets/controls",
          "model_name": "FloatProgressModel",
          "model_module_version": "1.5.0",
          "state": {
            "_dom_classes": [],
            "_model_module": "@jupyter-widgets/controls",
            "_model_module_version": "1.5.0",
            "_model_name": "FloatProgressModel",
            "_view_count": null,
            "_view_module": "@jupyter-widgets/controls",
            "_view_module_version": "1.5.0",
            "_view_name": "ProgressView",
            "bar_style": "success",
            "description": "",
            "description_tooltip": null,
            "layout": "IPY_MODEL_2d71aa60c0d14e11ae1832133217706e",
            "max": 654226731,
            "min": 0,
            "orientation": "horizontal",
            "style": "IPY_MODEL_82bdc23eca6a435f82f937e3fd658ade",
            "value": 654226731
          }
        },
        "0d9a59947df547358288873270305806": {
          "model_module": "@jupyter-widgets/controls",
          "model_name": "HTMLModel",
          "model_module_version": "1.5.0",
          "state": {
            "_dom_classes": [],
            "_model_module": "@jupyter-widgets/controls",
            "_model_module_version": "1.5.0",
            "_model_name": "HTMLModel",
            "_view_count": null,
            "_view_module": "@jupyter-widgets/controls",
            "_view_module_version": "1.5.0",
            "_view_name": "HTMLView",
            "description": "",
            "description_tooltip": null,
            "layout": "IPY_MODEL_cb9c038662684943807758c5882181b0",
            "placeholder": "​",
            "style": "IPY_MODEL_e3c14f997d404c5fa25dc7d412efbaff",
            "value": " 654M/654M [00:19&lt;00:00, 38.0MB/s]"
          }
        },
        "5996d087b5c147e4a5ab530e70430e57": {
          "model_module": "@jupyter-widgets/base",
          "model_name": "LayoutModel",
          "model_module_version": "1.2.0",
          "state": {
            "_model_module": "@jupyter-widgets/base",
            "_model_module_version": "1.2.0",
            "_model_name": "LayoutModel",
            "_view_count": null,
            "_view_module": "@jupyter-widgets/base",
            "_view_module_version": "1.2.0",
            "_view_name": "LayoutView",
            "align_content": null,
            "align_items": null,
            "align_self": null,
            "border": null,
            "bottom": null,
            "display": null,
            "flex": null,
            "flex_flow": null,
            "grid_area": null,
            "grid_auto_columns": null,
            "grid_auto_flow": null,
            "grid_auto_rows": null,
            "grid_column": null,
            "grid_gap": null,
            "grid_row": null,
            "grid_template_areas": null,
            "grid_template_columns": null,
            "grid_template_rows": null,
            "height": null,
            "justify_content": null,
            "justify_items": null,
            "left": null,
            "margin": null,
            "max_height": null,
            "max_width": null,
            "min_height": null,
            "min_width": null,
            "object_fit": null,
            "object_position": null,
            "order": null,
            "overflow": null,
            "overflow_x": null,
            "overflow_y": null,
            "padding": null,
            "right": null,
            "top": null,
            "visibility": null,
            "width": null
          }
        },
        "daa0ef4d6dc5474abf977aea28f9dadc": {
          "model_module": "@jupyter-widgets/base",
          "model_name": "LayoutModel",
          "model_module_version": "1.2.0",
          "state": {
            "_model_module": "@jupyter-widgets/base",
            "_model_module_version": "1.2.0",
            "_model_name": "LayoutModel",
            "_view_count": null,
            "_view_module": "@jupyter-widgets/base",
            "_view_module_version": "1.2.0",
            "_view_name": "LayoutView",
            "align_content": null,
            "align_items": null,
            "align_self": null,
            "border": null,
            "bottom": null,
            "display": null,
            "flex": null,
            "flex_flow": null,
            "grid_area": null,
            "grid_auto_columns": null,
            "grid_auto_flow": null,
            "grid_auto_rows": null,
            "grid_column": null,
            "grid_gap": null,
            "grid_row": null,
            "grid_template_areas": null,
            "grid_template_columns": null,
            "grid_template_rows": null,
            "height": null,
            "justify_content": null,
            "justify_items": null,
            "left": null,
            "margin": null,
            "max_height": null,
            "max_width": null,
            "min_height": null,
            "min_width": null,
            "object_fit": null,
            "object_position": null,
            "order": null,
            "overflow": null,
            "overflow_x": null,
            "overflow_y": null,
            "padding": null,
            "right": null,
            "top": null,
            "visibility": null,
            "width": null
          }
        },
        "9fd103dd029145e7ba41a89bb5ec538d": {
          "model_module": "@jupyter-widgets/controls",
          "model_name": "DescriptionStyleModel",
          "model_module_version": "1.5.0",
          "state": {
            "_model_module": "@jupyter-widgets/controls",
            "_model_module_version": "1.5.0",
            "_model_name": "DescriptionStyleModel",
            "_view_count": null,
            "_view_module": "@jupyter-widgets/base",
            "_view_module_version": "1.2.0",
            "_view_name": "StyleView",
            "description_width": ""
          }
        },
        "2d71aa60c0d14e11ae1832133217706e": {
          "model_module": "@jupyter-widgets/base",
          "model_name": "LayoutModel",
          "model_module_version": "1.2.0",
          "state": {
            "_model_module": "@jupyter-widgets/base",
            "_model_module_version": "1.2.0",
            "_model_name": "LayoutModel",
            "_view_count": null,
            "_view_module": "@jupyter-widgets/base",
            "_view_module_version": "1.2.0",
            "_view_name": "LayoutView",
            "align_content": null,
            "align_items": null,
            "align_self": null,
            "border": null,
            "bottom": null,
            "display": null,
            "flex": null,
            "flex_flow": null,
            "grid_area": null,
            "grid_auto_columns": null,
            "grid_auto_flow": null,
            "grid_auto_rows": null,
            "grid_column": null,
            "grid_gap": null,
            "grid_row": null,
            "grid_template_areas": null,
            "grid_template_columns": null,
            "grid_template_rows": null,
            "height": null,
            "justify_content": null,
            "justify_items": null,
            "left": null,
            "margin": null,
            "max_height": null,
            "max_width": null,
            "min_height": null,
            "min_width": null,
            "object_fit": null,
            "object_position": null,
            "order": null,
            "overflow": null,
            "overflow_x": null,
            "overflow_y": null,
            "padding": null,
            "right": null,
            "top": null,
            "visibility": null,
            "width": null
          }
        },
        "82bdc23eca6a435f82f937e3fd658ade": {
          "model_module": "@jupyter-widgets/controls",
          "model_name": "ProgressStyleModel",
          "model_module_version": "1.5.0",
          "state": {
            "_model_module": "@jupyter-widgets/controls",
            "_model_module_version": "1.5.0",
            "_model_name": "ProgressStyleModel",
            "_view_count": null,
            "_view_module": "@jupyter-widgets/base",
            "_view_module_version": "1.2.0",
            "_view_name": "StyleView",
            "bar_color": null,
            "description_width": ""
          }
        },
        "cb9c038662684943807758c5882181b0": {
          "model_module": "@jupyter-widgets/base",
          "model_name": "LayoutModel",
          "model_module_version": "1.2.0",
          "state": {
            "_model_module": "@jupyter-widgets/base",
            "_model_module_version": "1.2.0",
            "_model_name": "LayoutModel",
            "_view_count": null,
            "_view_module": "@jupyter-widgets/base",
            "_view_module_version": "1.2.0",
            "_view_name": "LayoutView",
            "align_content": null,
            "align_items": null,
            "align_self": null,
            "border": null,
            "bottom": null,
            "display": null,
            "flex": null,
            "flex_flow": null,
            "grid_area": null,
            "grid_auto_columns": null,
            "grid_auto_flow": null,
            "grid_auto_rows": null,
            "grid_column": null,
            "grid_gap": null,
            "grid_row": null,
            "grid_template_areas": null,
            "grid_template_columns": null,
            "grid_template_rows": null,
            "height": null,
            "justify_content": null,
            "justify_items": null,
            "left": null,
            "margin": null,
            "max_height": null,
            "max_width": null,
            "min_height": null,
            "min_width": null,
            "object_fit": null,
            "object_position": null,
            "order": null,
            "overflow": null,
            "overflow_x": null,
            "overflow_y": null,
            "padding": null,
            "right": null,
            "top": null,
            "visibility": null,
            "width": null
          }
        },
        "e3c14f997d404c5fa25dc7d412efbaff": {
          "model_module": "@jupyter-widgets/controls",
          "model_name": "DescriptionStyleModel",
          "model_module_version": "1.5.0",
          "state": {
            "_model_module": "@jupyter-widgets/controls",
            "_model_module_version": "1.5.0",
            "_model_name": "DescriptionStyleModel",
            "_view_count": null,
            "_view_module": "@jupyter-widgets/base",
            "_view_module_version": "1.2.0",
            "_view_name": "StyleView",
            "description_width": ""
          }
        }
      }
    }
  },
  "nbformat": 4,
  "nbformat_minor": 0
}