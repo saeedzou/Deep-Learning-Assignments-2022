{
 "cells": [
  {
   "cell_type": "code",
   "execution_count": 1,
   "metadata": {},
   "outputs": [],
   "source": [
    "import torch\n",
    "import torch.nn as nn\n",
    "import torch.nn.functional as F\n",
    "import torch.optim as optim\n",
    "import torchvision\n",
    "import torchvision.transforms as transforms\n",
    "import matplotlib.pyplot as plt\n",
    "import numpy as np\n",
    "import time\n",
    "import os"
   ]
  },
  {
   "cell_type": "code",
   "execution_count": 2,
   "metadata": {},
   "outputs": [],
   "source": [
    "# Device configuration\n",
    "device = torch.device('cuda' if torch.cuda.is_available() else 'cpu')"
   ]
  },
  {
   "cell_type": "code",
   "execution_count": null,
   "metadata": {},
   "outputs": [],
   "source": [
    "# download the COCO dataset\n",
    "!wget http://images.cocodataset.org/zips/train2017.zip\n",
    "!wget http://images.cocodataset.org/zips/val2017.zip\n",
    "!wget http://images.cocodataset.org/annotations/annotations_trainval2017.zip\n",
    "\n",
    "# unzip the files\n",
    "!unzip train2017.zip\n",
    "!unzip val2017.zip\n",
    "!unzip annotations_trainval2017.zip\n"
   ]
  },
  {
   "cell_type": "code",
   "execution_count": null,
   "metadata": {},
   "outputs": [],
   "source": [
    "# define the transforms\n",
    "transform = transforms.Compose([\n",
    "    transforms.Resize((224, 224)),\n",
    "    transforms.ToTensor(),\n",
    "    transforms.Normalize((0.5, 0.5, 0.5), (0.5, 0.5, 0.5))\n",
    "])\n",
    "\n",
    "# define the dataset\n",
    "trainset = torchvision.datasets.CocoDetection(root='./train2017', annFile='./annotations/instances_train2017.json', transform=transform)\n",
    "valset = torchvision.datasets.CocoDetection(root='./val2017', annFile='./annotations/instances_val2017.json', transform=transform)\n",
    "\n",
    "# define the dataloader\n",
    "trainloader = torch.utils.data.DataLoader(trainset, batch_size=4, shuffle=True, num_workers=2)\n",
    "valloader = torch.utils.data.DataLoader(valset, batch_size=4, shuffle=False, num_workers=2)\n"
   ]
  },
  {
   "cell_type": "code",
   "execution_count": null,
   "metadata": {},
   "outputs": [],
   "source": [
    "# plot 9 random images from the dataset\n",
    "def plot_random_images(dataset, num_cols=3, num_rows=3):\n",
    "    fig, axes = plt.subplots(num_rows, num_cols, figsize=(12, 12))\n",
    "    for i in range(num_rows):\n",
    "        for j in range(num_cols):\n",
    "            index = np.random.randint(len(dataset))\n",
    "            image = dataset[index][0].numpy().transpose(1, 2, 0)\n",
    "            image = (image + 1) / 2\n",
    "            axes[i, j].imshow(image)\n",
    "            axes[i, j].axis('off')\n",
    "    plt.show()\n",
    "\n",
    "plot_random_images(trainset)\n"
   ]
  },
  {
   "cell_type": "code",
   "execution_count": null,
   "metadata": {},
   "outputs": [],
   "source": [
    "# what is the size of the dataset?\n",
    "print('Size of the training dataset:', len(trainset))\n",
    "print('Size of the validation dataset:', len(valset))\n",
    "\n",
    "# what is the number of classes in the dataset? \n",
    "num_of_classes = len(trainset.coco.getCatIds())\n",
    "print('Number of classes in the dataset:', num_of_classes)\n"
   ]
  },
  {
   "cell_type": "code",
   "execution_count": null,
   "metadata": {},
   "outputs": [],
   "source": [
    "# use timm to load ResNet18 model\n",
    "import timm\n",
    "model = timm.create_model('resnet18', pretrained=True)\n",
    "model.fc = nn.Linear(512, num_of_classes)\n",
    "model = model.to(device)\n",
    "\n",
    "# define the loss function and the optimizer\n",
    "criterion = nn.CrossEntropyLoss()\n"
   ]
  }
 ],
 "metadata": {
  "kernelspec": {
   "display_name": "Python 3",
   "language": "python",
   "name": "python3"
  },
  "language_info": {
   "codemirror_mode": {
    "name": "ipython",
    "version": 3
   },
   "file_extension": ".py",
   "mimetype": "text/x-python",
   "name": "python",
   "nbconvert_exporter": "python",
   "pygments_lexer": "ipython3",
   "version": "3.9.0"
  },
  "orig_nbformat": 4,
  "vscode": {
   "interpreter": {
    "hash": "4fbe9694f7587329a2893969593bb646d9caf203732995a36644052b7dd475e8"
   }
  }
 },
 "nbformat": 4,
 "nbformat_minor": 2
}
