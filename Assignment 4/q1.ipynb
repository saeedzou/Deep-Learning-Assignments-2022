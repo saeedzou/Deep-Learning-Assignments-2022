{
  "cells": [
    {
      "cell_type": "markdown",
      "metadata": {
        "id": "view-in-github",
        "colab_type": "text"
      },
      "source": [
        "<a href=\"https://colab.research.google.com/github/saeedzou/DeepLearning1401-01/blob/main/Assignment%204/q1.ipynb\" target=\"_parent\"><img src=\"https://colab.research.google.com/assets/colab-badge.svg\" alt=\"Open In Colab\"/></a>"
      ]
    },
    {
      "cell_type": "code",
      "execution_count": 16,
      "metadata": {
        "colab": {
          "base_uri": "https://localhost:8080/"
        },
        "id": "43XEpWwu9ZQH",
        "outputId": "30005a23-a3a1-4afe-8c44-4a8c8d29232a"
      },
      "outputs": [
        {
          "output_type": "stream",
          "name": "stderr",
          "text": [
            "[nltk_data] Downloading package punkt to /root/nltk_data...\n",
            "[nltk_data]   Package punkt is already up-to-date!\n"
          ]
        }
      ],
      "source": [
        "# import necessary libraries for pytorch to train a sequence-to-sequence model using LSTM cells to generate poems of Ferdousi\n",
        "# the dataset is in ferdousi.txt which is in persian\n",
        "# the model is trained on a GPU\n",
        "import torch\n",
        "import torch.nn as nn\n",
        "import torch.nn.functional as F\n",
        "import torch.optim as optim\n",
        "import numpy as np\n",
        "import matplotlib.pyplot as plt\n",
        "import nltk\n",
        "nltk.download('punkt')\n",
        "from nltk.tokenize import word_tokenize\n",
        "from nltk.tokenize import sent_tokenize\n",
        "# # for persian\n",
        "# !pip install hazm -q\n",
        "# from hazm import *\n",
        "import string\n",
        "from collections import Counter\n",
        "import random"
      ]
    },
    {
      "cell_type": "code",
      "execution_count": 2,
      "metadata": {
        "colab": {
          "base_uri": "https://localhost:8080/"
        },
        "id": "GxNjFSQr9dmh",
        "outputId": "e0a80c64-e359-4bf8-9cbd-0698da3435f6"
      },
      "outputs": [
        {
          "output_type": "stream",
          "name": "stdout",
          "text": [
            "Cloning into 'Persian_poems_corpus'...\n",
            "remote: Enumerating objects: 159, done.\u001b[K\n",
            "remote: Total 159 (delta 0), reused 0 (delta 0), pack-reused 159\u001b[K\n",
            "Receiving objects: 100% (159/159), 45.21 MiB | 12.82 MiB/s, done.\n",
            "Resolving deltas: 100% (3/3), done.\n",
            "Updating files: 100% (148/148), done.\n"
          ]
        }
      ],
      "source": [
        "!git clone https://github.com/amnghd/Persian_poems_corpus.git\n",
        "!cp Persian_poems_corpus/original/ferdousi.txt .\n",
        "!rm -rf Persian_poems_corpus"
      ]
    },
    {
      "cell_type": "code",
      "source": [
        "class Vocabulary:\n",
        "    def __init__(self, poem_path, threshold):\n",
        "        self.poem_path = poem_path\n",
        "        self.threshold = threshold\n",
        "        self.load_poem()\n",
        "        self.build_vocab()\n",
        "        \n",
        "    def load_poem(self):\n",
        "        with open(self.poem_path, 'r', encoding='utf-8') as f:\n",
        "            poem = [line.strip() for line in f.readlines()]\n",
        "        poem = poem[2:]\n",
        "        poem = poem[:-1] if len(poem) % 2 == 1 else poem\n",
        "        poem = [[poem[i], poem[i+1]] for i in range(0, len(poem), 2)]\n",
        "        poem = [mesra[0] + ' <sep> ' + mesra[1] for mesra in poem]\n",
        "        punctuations = string.punctuation + '«»،؛؟'\n",
        "        self.lines = [[word.lower() for word in line.split() if word not in punctuations] for line in poem]\n",
        "    \n",
        "    def build_vocab(self):\n",
        "        words = [word for line in self.lines for word in line]\n",
        "        word_counts = Counter(words)\n",
        "        words = [word for word, count in word_counts.items() if count >= self.threshold]\n",
        "        self.word2idx = {word: idx for idx, word in enumerate(words)}\n",
        "        self.word2idx['<pad>'] = len(self.word2idx)\n",
        "        self.word2idx['<sos>'] = len(self.word2idx)\n",
        "        self.word2idx['<eos>'] = len(self.word2idx)\n",
        "        self.word2idx['<unk>'] = len(self.word2idx)\n",
        "        self.word2idx['<sep>'] = len(self.word2idx)\n",
        "        self.idx2word = {idx: word for word, idx in self.word2idx.items()}"
      ],
      "metadata": {
        "id": "4N95HrKECC81"
      },
      "execution_count": 17,
      "outputs": []
    },
    {
      "cell_type": "code",
      "execution_count": 18,
      "metadata": {
        "id": "8OFdtzP_IgSO"
      },
      "outputs": [],
      "source": [
        "class FerdousiDataset(torch.utils.data.Dataset):\n",
        "    def __init__(self, poem_path, vocab):\n",
        "        self.poem_path = poem_path\n",
        "        self.vocab = vocab\n",
        "        self.load_poem()\n",
        "\n",
        "    def __len__(self):\n",
        "        return len(self.poem) - 1\n",
        "\n",
        "    def __getitem__(self, idx):\n",
        "        return self.poem[idx], self.poem[idx + 1]\n",
        "\n",
        "    def load_poem(self):\n",
        "        with open(self.poem_path, 'r', encoding='utf-8') as f:\n",
        "            poem = [line.strip() for line in f.readlines()]\n",
        "        poem = poem[2:]\n",
        "        poem = poem[:-1] if len(poem) % 2 == 1 else poem\n",
        "        poem = [[poem[i], poem[i + 1]] for i in range(0, len(poem), 2)]\n",
        "        poem = [mesra[0] + ' <sep> ' + mesra[1] for mesra in poem]\n",
        "        poem = [word_tokenize(line) for line in poem]\n",
        "        punctuations = string.punctuation + '«»،؛؟'\n",
        "        poem = [[word for word in line if word not in punctuations] for line in poem]\n",
        "        poem = [line for line in poem if len(line) > 0]\n",
        "        poem = [[word for word in line if len(word) > 1] for line in poem]\n",
        "        self.max_len = max([len(line) for line in poem])\n",
        "        poem = [line + ['<pad>'] * (self.max_len - len(line)) for line in poem]\n",
        "        poem = [['<sos>'] + line + ['<eos>'] for line in poem]\n",
        "\n",
        "        # Create word vectors using the vocabulary\n",
        "        self.poem = []\n",
        "        for line in poem:\n",
        "            line_vec = []\n",
        "            for word in line:\n",
        "                if word in self.vocab.word2idx:\n",
        "                    line_vec.append(self.vocab.word2idx[word])\n",
        "                else:\n",
        "                    line_vec.append(self.vocab.word2idx['<unk>'])\n",
        "            self.poem.append(line_vec)\n",
        "        self.poem = torch.tensor(self.poem).long()\n",
        "\n",
        "vocab = Vocabulary('ferdousi.txt', 2)\n",
        "# create a dataset object\n",
        "dataset = FerdousiDataset('ferdousi.txt', vocab)\n",
        "# split the dataset into train and test\n",
        "train_size = int(0.8 * len(dataset))\n",
        "test_size = len(dataset) - train_size\n",
        "train_dataset, test_dataset = torch.utils.data.random_split(dataset, [train_size, test_size])\n",
        "# create a dataloader for train and test\n",
        "train_loader = torch.utils.data.DataLoader(train_dataset, batch_size=32, shuffle=True)\n",
        "test_loader = torch.utils.data.DataLoader(test_dataset, batch_size=32, shuffle=True)\n",
        "device = torch.device('cuda' if torch.cuda.is_available() else 'cpu')"
      ]
    },
    {
      "cell_type": "code",
      "execution_count": 19,
      "metadata": {
        "id": "iZv8z6vBmB8r"
      },
      "outputs": [],
      "source": [
        "class Encoder(nn.Module):\n",
        "    def __init__(self, input_size, embedding_size, hidden_size, num_layers, p_drop=0.1):\n",
        "        super(Encoder, self).__init__()\n",
        "        self.hidden_size = hidden_size\n",
        "        self.num_layers = num_layers\n",
        "        self.embedding = nn.Embedding(input_size, embedding_size)\n",
        "        self.rnn = nn.LSTM(embedding_size, hidden_size, num_layers, batch_first=True)\n",
        "        self.dropout = nn.Dropout(p_drop)\n",
        "\n",
        "    def forward(self, x, hidden=None, cell=None):\n",
        "        # x.shape = (batch_size, seq_len)\n",
        "        embedding = self.dropout(self.embedding(x))\n",
        "        # embedding.shape = (batch_size, seq_len, embedding_size)\n",
        "        if hidden is None and cell is None:\n",
        "            hidden = torch.zeros((self.num_layers, x.shape[0], self.hidden_size), device=x.device)\n",
        "            cell = torch.zeros((self.num_layers, x.shape[0], self.hidden_size), device=x.device)\n",
        "        outputs, (hidden, cell) = self.rnn(embedding, (hidden, cell))\n",
        "        # outputs.shape = (batch_size, seq_len, hidden_size)\n",
        "        # hidden.shape = (num_layers, batch_size, hidden_size)\n",
        "        # cell.shape = (num_layers, batch_size, hidden_size)\n",
        "        return hidden, cell\n",
        "\n",
        "# define the decoder class and use the encoder.embedding as the embedding layer\n",
        "class Decoder(nn.Module):\n",
        "    def __init__(self, input_size, embedding_size, hidden_size, output_size, num_layers, p_drop=0.1):\n",
        "        super(Decoder, self).__init__()\n",
        "        self.hidden_size = hidden_size\n",
        "        self.num_layers = num_layers\n",
        "        self.embedding = encoder.embedding\n",
        "        self.rnn = nn.LSTM(embedding_size, hidden_size, num_layers, batch_first=True)\n",
        "        self.fc = nn.Linear(hidden_size, output_size)\n",
        "        self.dropout = nn.Dropout(p_drop)\n",
        "\n",
        "    def forward(self, x, hidden, cell):\n",
        "        # x.shape = (batch_size, 1)\n",
        "        x = x.unsqueeze(1)\n",
        "        # x.shape = (batch_size, 1, 1)\n",
        "        embedding = self.dropout(self.embedding(x))\n",
        "        # embedding.shape = (batch_size, 1, embedding_size)\n",
        "        outputs, (hidden, cell) = self.rnn(embedding, (hidden, cell))\n",
        "        # outputs.shape = (batch_size, 1, hidden_size)\n",
        "        # hidden.shape = (num_layers, batch_size, hidden_size)\n",
        "        # cell.shape = (num_layers, batch_size, hidden_size)\n",
        "        predictions = self.fc(outputs)\n",
        "        # predictions.shape = (batch_size, 1, output_size)\n",
        "        predictions = predictions.squeeze(1)\n",
        "        # predictions.shape = (batch_size, output_size)\n",
        "        return predictions, hidden, cell"
      ]
    },
    {
      "cell_type": "code",
      "execution_count": 20,
      "metadata": {
        "id": "GCemRPIzIjq2"
      },
      "outputs": [],
      "source": [
        "class Seq2Seq(nn.Module):\n",
        "    def __init__(self, encoder, decoder):\n",
        "        super(Seq2Seq, self).__init__()\n",
        "        self.encoder = encoder\n",
        "        self.decoder = decoder\n",
        "\n",
        "    def forward(self, source, target, teacher_forcing_ratio=0.8):\n",
        "        # source.shape = (batch_size, source_seq_len)\n",
        "        # target.shape = (batch_size, target_seq_len)\n",
        "        batch_size = source.shape[0]\n",
        "        target_len = target.shape[1]\n",
        "        target_vocab_size = len(dataset.vocab.word2idx)\n",
        "        outputs = torch.zeros(batch_size, target_len, target_vocab_size).to(device)\n",
        "        hidden, cell = self.encoder(source)\n",
        "        # hidden.shape = (num_layers, batch_size, hidden_size)\n",
        "        # cell.shape = (num_layers, batch_size, hidden_size)\n",
        "        x = target[:, 0]\n",
        "        # x.shape = (batch_size)\n",
        "        for t in range(1, target_len):\n",
        "            output, hidden, cell = self.decoder(x, hidden, cell)\n",
        "            # output.shape = (batch_size, target_vocab_size)\n",
        "            outputs[:, t] = output\n",
        "            best_guess = output.argmax(1)\n",
        "            x = target[:, t] if random.random() < teacher_forcing_ratio else best_guess\n",
        "        return outputs"
      ]
    },
    {
      "cell_type": "code",
      "execution_count": 21,
      "metadata": {
        "id": "OOV95ro2mB8v"
      },
      "outputs": [],
      "source": [
        "# encoder hyperparameters\n",
        "input_size_encoder = len(dataset.vocab.word2idx)\n",
        "encoder_embedding_size = 200\n",
        "hidden_size = 128\n",
        "num_layers = 2\n",
        "# define the encoder\n",
        "encoder = Encoder(input_size_encoder, encoder_embedding_size, hidden_size, num_layers).to(device)\n",
        "# decoder hyperparameters\n",
        "input_size_decoder = len(dataset.vocab.word2idx)\n",
        "output_size = len(dataset.vocab.word2idx)\n",
        "decoder_embedding_size = 200\n",
        "hidden_size = 128\n",
        "num_layers = 2\n",
        "# define the decoder\n",
        "decoder = Decoder(input_size_decoder, decoder_embedding_size, hidden_size, output_size, num_layers).to(device)\n",
        "num_epochs = 50\n",
        "learning_rate = 1e-3\n",
        "# initialize the network\n",
        "encoder_net = Encoder(input_size_encoder, encoder_embedding_size, hidden_size, num_layers).to(device)\n",
        "decoder_net = Decoder(input_size_decoder, decoder_embedding_size, hidden_size, output_size, num_layers).to(device)\n",
        "model = Seq2Seq(encoder_net, decoder_net).to(device)\n",
        "criterion = nn.CrossEntropyLoss(ignore_index=dataset.vocab.word2idx['<pad>'])\n",
        "optimizer = torch.optim.Adam(model.parameters(), lr=learning_rate)"
      ]
    },
    {
      "cell_type": "code",
      "execution_count": 22,
      "metadata": {
        "id": "n9bR1WYkmB8w"
      },
      "outputs": [],
      "source": [
        "# define a function that takes a tensor of indices and returns a string and removes pad and end and start tokens\n",
        "def tensor2string(tensor):\n",
        "    # tensor.shape = (seq_len)\n",
        "    words = [dataset.vocab.idx2word[idx.item()] for idx in tensor]\n",
        "    words = [word for word in words if word not in ['<pad>', '<sos>', '<eos>']]\n",
        "    return ' '.join(words)\n",
        "\n",
        "# define a function that generates a verse\n",
        "def generate_verse(model, source, device, max_len=20):\n",
        "    source = source.unsqueeze(0)\n",
        "    model.eval()\n",
        "    # dont forget to move to device\n",
        "    with torch.no_grad():\n",
        "        hidden, cell = model.encoder(source.to(device))\n",
        "        # hidden.shape = (num_layers, batch_size, hidden_size)\n",
        "        # cell.shape = (num_layers, batch_size, hidden_size)\n",
        "        x = torch.tensor([dataset.vocab.word2idx['<sos>']]).to(device)\n",
        "        outputs = []\n",
        "        for t in range(max_len):\n",
        "            output, hidden, cell = model.decoder(x, hidden, cell)\n",
        "            # output.shape = (1, output_size)\n",
        "            best_guess = output.argmax(1)\n",
        "            outputs.append(best_guess.item())\n",
        "            x = best_guess\n",
        "            if best_guess.item() == dataset.vocab.word2idx['<eos>']:\n",
        "                break\n",
        "    return tensor2string(torch.tensor(outputs))"
      ]
    },
    {
      "cell_type": "code",
      "execution_count": 23,
      "metadata": {
        "id": "HLN3HUVBmB8x"
      },
      "outputs": [],
      "source": [
        "# define a function that trains the model\n",
        "def train(model, train_loader, val_loader, criterion, optimizer, num_epochs, device):\n",
        "    train_losses = []\n",
        "    val_losses = []\n",
        "    train_accuracies = []\n",
        "    val_accuracies = []\n",
        "    for epoch in range(num_epochs):\n",
        "        train_loss = 0\n",
        "        train_accuracy = 0\n",
        "        idx = random.randint(0, len(train_dataset))\n",
        "        verse = train_dataset[idx][0].to(device)\n",
        "        print(generate_verse(model, verse, device=device))\n",
        "        model.train()\n",
        "        for (source, target) in train_loader:\n",
        "            source = source.to(device)\n",
        "            target = target.to(device)\n",
        "            outputs = model(source, target)\n",
        "            # outputs.shape = (batch_size, target_seq_len, output_size)\n",
        "            outputs = outputs[:, 1:].reshape(-1, outputs.shape[2])\n",
        "            # outputs.shape = (batch_size * target_seq_len, output_size)\n",
        "            target = target[:, 1:].reshape(-1)\n",
        "            # target.shape = (batch_size * target_seq_len)\n",
        "            loss = criterion(outputs, target)\n",
        "            optimizer.zero_grad()\n",
        "            loss.backward()\n",
        "            optimizer.step()\n",
        "            train_loss += loss.item()\n",
        "            top_p, top_class = outputs.topk(1, dim=1)\n",
        "            # top_p.shape = (batch_size * target_seq_len, 1)\n",
        "            # top_class.shape = (batch_size * target_seq_len, 1)\n",
        "            equals = top_class == target.view(*top_class.shape)\n",
        "            # equals.shape = (batch_size * target_seq_len, 1)\n",
        "            train_accuracy += torch.mean(equals.type(torch.FloatTensor)).item()\n",
        "        train_losses.append(train_loss / len(train_loader))\n",
        "        train_accuracies.append(train_accuracy / len(train_loader))\n",
        "        model.eval()\n",
        "        val_loss = 0\n",
        "        val_accuracy = 0\n",
        "        with torch.no_grad():\n",
        "            for (source, target) in val_loader:\n",
        "                source = source.to(device)\n",
        "                target = target.to(device)\n",
        "                outputs = model(source, target)\n",
        "                # outputs.shape = (batch_size, target_seq_len, output_size)\n",
        "                outputs = outputs[:, 1:].reshape(-1, outputs.shape[2])\n",
        "                # outputs.shape = (batch_size * target_seq_len, output_size)\n",
        "                target = target[:, 1:].reshape(-1)\n",
        "                # target.shape = (batch_size * target_seq_len)\n",
        "                loss = criterion(outputs, target)\n",
        "                val_loss += loss.item()\n",
        "                top_p, top_class = outputs.topk(1, dim=1)\n",
        "                # top_p.shape = (batch_size * target_seq_len, 1)\n",
        "                # top_class.shape = (batch_size * target_seq_len, 1)\n",
        "                equals = top_class == target.view(*top_class.shape)\n",
        "                # equals.shape = (batch_size * target_seq_len, 1)\n",
        "                val_accuracy += torch.mean(equals.type(torch.FloatTensor)).item()\n",
        "        val_losses.append(val_loss / len(val_loader))\n",
        "        val_accuracies.append(val_accuracy / len(val_loader))\n",
        "        print(f'Epoch {epoch + 1}/{num_epochs} | Train Loss: {train_losses[-1]:.4f} | Train Accuracy: {train_accuracies[-1]:.4f} | Val Loss: {val_losses[-1]:.4f} | Val Accuracy: {val_accuracies[-1]:.4f}')\n",
        "    return train_losses, val_losses, train_accuracies, val_accuracies"
      ]
    },
    {
      "cell_type": "code",
      "source": [
        "train_losses, val_losses, train_accuracies, val_accuracies = train(model, train_loader, test_loader, criterion, optimizer, num_epochs, device)"
      ],
      "metadata": {
        "colab": {
          "base_uri": "https://localhost:8080/"
        },
        "id": "SPx2Q4M6ICR0",
        "outputId": "7bedc6b1-ee38-4fb0-b8d4-084f628c084e"
      },
      "execution_count": 24,
      "outputs": [
        {
          "output_type": "stream",
          "name": "stdout",
          "text": [
            "خواهم شارهٔ شارهٔ شارهٔ بیندت ساله بیندت ساله کارآن چندشان زگرد بکه نشناختند شهد بکه شهد شهد کهترانند انگاه بلاغت\n",
            "Epoch 1/50 | Train Loss: 5.9615 | Train Accuracy: 0.1232 | Val Loss: 5.7065 | Val Accuracy: 0.1305\n",
            "به از که از بر <unk> <unk> <unk> به بر بر بر به راه اوی\n",
            "Epoch 2/50 | Train Loss: 5.5735 | Train Accuracy: 0.1358 | Val Loss: 5.5037 | Val Accuracy: 0.1399\n",
            "چو گفت با شاه <unk> <unk> <unk> <unk> از بر <unk> بر <unk> به دست اوی اوی\n",
            "Epoch 3/50 | Train Loss: 5.3755 | Train Accuracy: 0.1431 | Val Loss: 5.3624 | Val Accuracy: 0.1455\n",
            "چو گفت که ای <unk> <unk> <unk> <unk> <unk> <unk> <unk> به راه به راه اوی اوی\n",
            "Epoch 4/50 | Train Loss: 5.2138 | Train Accuracy: 0.1493 | Val Loss: 5.2461 | Val Accuracy: 0.1511\n",
            "چو بشنید شد از <unk> <unk> <unk> <unk> از از بر او را به پای بود\n",
            "Epoch 5/50 | Train Loss: 5.0755 | Train Accuracy: 0.1547 | Val Loss: 5.1433 | Val Accuracy: 0.1557\n",
            "چو گفت با او <unk> <unk> <unk> که از <unk> <unk> به دست به دست به دست بود\n",
            "Epoch 6/50 | Train Loss: 4.9671 | Train Accuracy: 0.1590 | Val Loss: 5.0972 | Val Accuracy: 0.1584\n",
            "چو از بر تخت زرین ستام <unk> به پیش اندرون بر سر کلاه کلاه کلاه کلاه کلاه\n",
            "Epoch 7/50 | Train Loss: 4.8840 | Train Accuracy: 0.1622 | Val Loss: 5.0486 | Val Accuracy: 0.1616\n",
            "چو گفت با شاه <unk> <unk> <unk> که از <unk> از کارزار تفت به راه راه\n",
            "Epoch 8/50 | Train Loss: 4.7918 | Train Accuracy: 0.1661 | Val Loss: 4.9925 | Val Accuracy: 0.1647\n",
            "چو از بر تخت زرین ستام <unk> به بر سر بر سر نهاد پای پای خاست\n",
            "Epoch 9/50 | Train Loss: 4.7336 | Train Accuracy: 0.1689 | Val Loss: 4.9869 | Val Accuracy: 0.1656\n",
            "چو از بر تخت زرین نهاد <unk> به بر سر بر نهاد از میان گروه خاست\n",
            "Epoch 10/50 | Train Loss: 4.6654 | Train Accuracy: 0.1722 | Val Loss: 4.9791 | Val Accuracy: 0.1673\n",
            "چو از بر شاه ایران رسید <unk> که از را دید با کرنای جفت جفت\n",
            "Epoch 11/50 | Train Loss: 4.6045 | Train Accuracy: 0.1745 | Val Loss: 4.9491 | Val Accuracy: 0.1686\n",
            "چو شد از لشکر پیلتن <unk> که از شد به کردار شیر ژیان را ندید\n",
            "Epoch 12/50 | Train Loss: 4.5538 | Train Accuracy: 0.1773 | Val Loss: 4.9546 | Val Accuracy: 0.1702\n",
            "چو گفت با او <unk> <unk> <unk> که از <unk> از <unk> <unk> نیست راست گوی نیست\n",
            "Epoch 13/50 | Train Loss: 4.5115 | Train Accuracy: 0.1797 | Val Loss: 4.9176 | Val Accuracy: 0.1722\n",
            "چو از به نزدیک شاه <unk> <unk> به نزدیک شاه آمد از بارگاه سپاه راه سپاه راه سپاه\n",
            "Epoch 14/50 | Train Loss: 4.4699 | Train Accuracy: 0.1818 | Val Loss: 4.9112 | Val Accuracy: 0.1740\n",
            "چو گفت کای شاه ایران <unk> <unk> <unk> به <unk> به جای نشست به پای بود\n",
            "Epoch 15/50 | Train Loss: 4.4315 | Train Accuracy: 0.1834 | Val Loss: 4.9678 | Val Accuracy: 0.1718\n",
            "چو بشنید که این کار <unk> <unk> <unk> به از تو <unk> <unk> نیست نیست\n",
            "Epoch 16/50 | Train Loss: 4.3888 | Train Accuracy: 0.1861 | Val Loss: 4.8986 | Val Accuracy: 0.1770\n",
            "که از تو به <unk> <unk> <unk> <unk> <unk> <unk> به <unk> <unk> به جنگ افگنی <unk>\n",
            "Epoch 17/50 | Train Loss: 4.3620 | Train Accuracy: 0.1873 | Val Loss: 4.9076 | Val Accuracy: 0.1769\n",
            "که که از تو <unk> <unk> <unk> <unk> <unk> <unk> <unk> <unk> <unk> <unk> نیست نیست نیست\n",
            "Epoch 18/50 | Train Loss: 4.3046 | Train Accuracy: 0.1908 | Val Loss: 4.9333 | Val Accuracy: 0.1764\n",
            "چو از به نزدیک شاه <unk> <unk> <unk> به نزدیک شاه سپاه راه راه سپاه راه گناه\n",
            "Epoch 19/50 | Train Loss: 4.2864 | Train Accuracy: 0.1917 | Val Loss: 4.9507 | Val Accuracy: 0.1765\n",
            "همان نیز با او <unk> <unk> <unk> به هر سو که بد به دست به دست\n",
            "Epoch 20/50 | Train Loss: 4.2338 | Train Accuracy: 0.1948 | Val Loss: 4.9361 | Val Accuracy: 0.1780\n",
            "همه <unk> کرد <unk> <unk> <unk> <unk> <unk> <unk> <unk> <unk> کرد چاک چاک چاک چاک چاک\n",
            "Epoch 21/50 | Train Loss: 4.2206 | Train Accuracy: 0.1959 | Val Loss: 4.9552 | Val Accuracy: 0.1779\n",
            "چو بشنید آن نامه را <unk> <unk> <unk> به از بر شاه <unk> بخواند به پای خاست\n",
            "Epoch 22/50 | Train Loss: 4.1858 | Train Accuracy: 0.1977 | Val Loss: 4.9658 | Val Accuracy: 0.1779\n",
            "چو آمد به نزدیک افراسیاب <unk> که از شد از کوه دشت آفتاب آفتاب\n",
            "Epoch 23/50 | Train Loss: 4.1583 | Train Accuracy: 0.1997 | Val Loss: 4.9562 | Val Accuracy: 0.1793\n",
            "<unk> <unk> را <unk> <unk> <unk> <unk> <unk> به <unk> بر <unk> بر سبوی پاک خواست نیست\n",
            "Epoch 24/50 | Train Loss: 4.1158 | Train Accuracy: 0.2017 | Val Loss: 4.9876 | Val Accuracy: 0.1772\n",
            "بدو گفت کای شاه ایران <unk> <unk> که از <unk> از تو <unk> کیست ای نامجوی\n",
            "Epoch 25/50 | Train Loss: 4.0952 | Train Accuracy: 0.2039 | Val Loss: 4.9959 | Val Accuracy: 0.1788\n",
            "چو از دور شد به <unk> <unk> <unk> همی کرد بر مهرهٔ پشت راست کرد از نخست\n",
            "Epoch 26/50 | Train Loss: 4.0696 | Train Accuracy: 0.2051 | Val Loss: 5.0280 | Val Accuracy: 0.1778\n",
            "همه موبدان آفرین خواندند <unk> زبرجد برافشاندند آفرین خواندند آفرین خواندند آفرین افشاندند را بخوان\n",
            "Epoch 27/50 | Train Loss: 4.0659 | Train Accuracy: 0.2059 | Val Loss: 5.0101 | Val Accuracy: 0.1787\n",
            "همه مهتران را بخواند <unk> <unk> به نزدیک شاه بنهاد تفت براند راه نشاند پیش\n",
            "Epoch 28/50 | Train Loss: 4.0282 | Train Accuracy: 0.2080 | Val Loss: 5.0067 | Val Accuracy: 0.1793\n",
            "که من با تو از <unk> <unk> <unk> به <unk> بر تو <unk> زمین\n",
            "Epoch 29/50 | Train Loss: 4.0201 | Train Accuracy: 0.2087 | Val Loss: 4.9969 | Val Accuracy: 0.1804\n",
            "چو از دور شد به <unk> <unk> <unk> به کردار آتش برآمد خروش خروس چاک چاک ودشت\n",
            "Epoch 30/50 | Train Loss: 3.9831 | Train Accuracy: 0.2113 | Val Loss: 5.0217 | Val Accuracy: 0.1800\n",
            "بفرمود تا پیش او شد دبیر <unk> به نزدیک موبد پیر دبیر پذیر دبیر پذیر\n",
            "Epoch 31/50 | Train Loss: 3.9726 | Train Accuracy: 0.2117 | Val Loss: 5.0612 | Val Accuracy: 0.1793\n",
            "به <unk> سپردند <unk> <unk> به <unk> بر شاه <unk> رهنمای پای فخر فخر\n",
            "Epoch 32/50 | Train Loss: 3.9388 | Train Accuracy: 0.2140 | Val Loss: 5.0501 | Val Accuracy: 0.1805\n",
            "به گفت که ای شاه را <unk> <unk> <unk> را به داد آفرین کرد کرد\n",
            "Epoch 33/50 | Train Loss: 3.9298 | Train Accuracy: 0.2153 | Val Loss: 5.0713 | Val Accuracy: 0.1795\n",
            "چو بشنید گفتار او را <unk> <unk> به نزدیک او را به دست بست خاست راست\n",
            "Epoch 34/50 | Train Loss: 3.9019 | Train Accuracy: 0.2166 | Val Loss: 5.0999 | Val Accuracy: 0.1781\n",
            "یکی نیزه زد بر کمربند اوی <unk> همه تیره شد روی اوی اوی اوی اوی اوی\n",
            "Epoch 35/50 | Train Loss: 3.8826 | Train Accuracy: 0.2181 | Val Loss: 5.0780 | Val Accuracy: 0.1805\n",
            "وزان جایگه شد سوی طیسفون <unk> به هر جای ویرانی از رهنمون رهنمون نه\n",
            "Epoch 36/50 | Train Loss: 3.8721 | Train Accuracy: 0.2194 | Val Loss: 5.1582 | Val Accuracy: 0.1766\n",
            "اگر من که از تو <unk> <unk> <unk> به <unk> بر تو بر تو کیست جفت توجست\n",
            "Epoch 37/50 | Train Loss: 3.8570 | Train Accuracy: 0.2198 | Val Loss: 5.1367 | Val Accuracy: 0.1790\n",
            "چو بشنید رستم که شد <unk> <unk> <unk> به از بر شد از خاک خاک شد تیره خاک\n",
            "Epoch 38/50 | Train Loss: 3.8483 | Train Accuracy: 0.2206 | Val Loss: 5.1762 | Val Accuracy: 0.1771\n",
            "اگر شاه را من به <unk> <unk> <unk> که <unk> <unk> بر تو آید به جنگ آیمت\n",
            "Epoch 39/50 | Train Loss: 3.8150 | Train Accuracy: 0.2233 | Val Loss: 5.1466 | Val Accuracy: 0.1791\n",
            "به پیش شهنشاه برخاستند <unk> به مژگان همی خون برخ برفشاند زدند از میان برزدند آمدند\n",
            "Epoch 40/50 | Train Loss: 3.8046 | Train Accuracy: 0.2240 | Val Loss: 5.2022 | Val Accuracy: 0.1772\n",
            "برآمد خروشیدن گاودم <unk> زمین شد بکردار دریای خون خون آژده ناب گلاب\n",
            "Epoch 41/50 | Train Loss: 3.7600 | Train Accuracy: 0.2271 | Val Loss: 5.1764 | Val Accuracy: 0.1785\n",
            "گر از من همی بازجویی سخن <unk> که از تو <unk> کهن کهن داشتم بن بن بن بن بن بن\n",
            "Epoch 42/50 | Train Loss: 3.7553 | Train Accuracy: 0.2269 | Val Loss: 5.2105 | Val Accuracy: 0.1781\n",
            "بدو گفت کای شاه با من بگوی <unk> که از این بد به روی روی روی\n",
            "Epoch 43/50 | Train Loss: 3.7480 | Train Accuracy: 0.2281 | Val Loss: 5.2102 | Val Accuracy: 0.1776\n",
            "وگر هیچ تاب اندر آید به <unk> <unk> به <unk> بر تو آید به جنگ رستخیز مغاک اندرند\n",
            "Epoch 44/50 | Train Loss: 3.7456 | Train Accuracy: 0.2285 | Val Loss: 5.2329 | Val Accuracy: 0.1773\n",
            "به ایران بفرمود تا شهریار <unk> به نزدیک آن نامدار انجمن نامدار دبیر هزار هزار\n",
            "Epoch 45/50 | Train Loss: 3.7241 | Train Accuracy: 0.2297 | Val Loss: 5.2392 | Val Accuracy: 0.1768\n",
            "که این را را به <unk> <unk> <unk> <unk> به <unk> به به جنگ اندرند آمدن\n",
            "Epoch 46/50 | Train Loss: 3.7228 | Train Accuracy: 0.2304 | Val Loss: 5.2294 | Val Accuracy: 0.1784\n",
            "به گیتی مرا شارستانست ای <unk> به <unk> به به دانش به شیرین بدی آرزوی آرزوی ست\n",
            "Epoch 47/50 | Train Loss: 3.6774 | Train Accuracy: 0.2332 | Val Loss: 5.2810 | Val Accuracy: 0.1765\n",
            "وگر من را تو <unk> <unk> <unk> <unk> که <unk> <unk> <unk> <unk> <unk> نیست روی پرند\n",
            "Epoch 48/50 | Train Loss: 3.6587 | Train Accuracy: 0.2349 | Val Loss: 5.3001 | Val Accuracy: 0.1751\n",
            "بتازند گردان بدین رزمگاه <unk> <unk> که از بر مور بر پشه راه راه سپاه راه\n",
            "Epoch 49/50 | Train Loss: 3.6646 | Train Accuracy: 0.2347 | Val Loss: 5.2767 | Val Accuracy: 0.1782\n",
            "که من پیش من بر <unk> <unk> <unk> به از تو آرم به دل بامنند دست\n",
            "Epoch 50/50 | Train Loss: 3.6582 | Train Accuracy: 0.2352 | Val Loss: 5.2860 | Val Accuracy: 0.1776\n"
          ]
        }
      ]
    },
    {
      "cell_type": "code",
      "source": [
        "plt.plot(train_losses, label='train losses')\n",
        "plt.plot(val_losses, label='val losses')\n",
        "plt.legend()\n",
        "plt.show()\n",
        "plt.plot(train_accuracies, label='train accs')\n",
        "plt.plot(val_accuracies, label='val accs')\n",
        "plt.legend()\n",
        "plt.show()"
      ],
      "metadata": {
        "colab": {
          "base_uri": "https://localhost:8080/",
          "height": 516
        },
        "id": "JAlvLPELXHKt",
        "outputId": "61c02d02-aedc-4b01-d273-35cd5678364b"
      },
      "execution_count": 45,
      "outputs": [
        {
          "output_type": "display_data",
          "data": {
            "text/plain": [
              "<Figure size 432x288 with 1 Axes>"
            ],
            "image/png": "[encoded data removed]"
          },
          "metadata": {
            "needs_background": "light"
          }
        },
        {
          "output_type": "display_data",
          "data": {
            "text/plain": [
              "<Figure size 432x288 with 1 Axes>"
            ],
            "image/png": "[encoded data removed]"
          },
          "metadata": {
            "needs_background": "light"
          }
        }
      ]
    },
    {
      "cell_type": "markdown",
      "source": [
        "To generate verses I only select those generated verses that have unique words in them and their length is more than 12"
      ],
      "metadata": {
        "id": "N8Du_GENXDVi"
      }
    },
    {
      "cell_type": "code",
      "source": [
        "# define a function that takes a tensor of indices and returns a string and removes pad and end and start tokens\n",
        "def tensor2string(tensor):\n",
        "    # tensor.shape = (seq_len)\n",
        "    words = [dataset.vocab.idx2word[idx.item()] for idx in tensor]\n",
        "    words = [word for word in words if word not in ['<pad>', '<sos>', '<eos>', '<unk>']]\n",
        "    return ' '.join(words)\n",
        "print(\"Some Generated Verses: \")\n",
        "i = 0\n",
        "while not i == 10:\n",
        "  idx = random.randint(0, len(train_dataset))\n",
        "  verse = train_dataset[idx][0].to(device)\n",
        "  generated = generate_verse(model, verse, device=device)\n",
        "  if len(generated.split()) > 12:\n",
        "    counts = Counter(generated.split())\n",
        "    counts = sorted(counts.items(), key=lambda x: x[1], reverse=True)\n",
        "    if counts[0][1] == 1:\n",
        "      i += 1\n",
        "      print(generated)"
      ],
      "metadata": {
        "colab": {
          "base_uri": "https://localhost:8080/"
        },
        "id": "EBflKC3bUmK2",
        "outputId": "0d2ced37-ad2a-459e-94c2-d322a303ebaf"
      },
      "execution_count": 43,
      "outputs": [
        {
          "output_type": "stream",
          "name": "stdout",
          "text": [
            "Some Generated Verses: \n",
            "کنون چون نشستیم با او که بر ما ربودی همی پشت گام پرند\n",
            "چو از دور دیدند بر همی رفت با او به جای نو گام زن\n",
            "سیاوش بدو گفت کای شهریار که من نیاید به کار زار سیر آر تاو\n",
            "چنین گفت با شاه ایران که ای نامداران گردان من سخن در گمان یادگار بگیر را بخوان\n",
            "چو از پیش او شد به بر آن بگشاد لب را بکشت جفت\n",
            "پس آگاهی آمد به ایران سپاه که از خونشان شد آوردگاه سیاه آمدند\n",
            "یکی نیزه انداخت بر گردنش به ابر اندر آورده روی زمین برزدند زدند\n",
            "بگویم ترا هرچ گفتی بطوس به از تیرگیها بیفروزدش رنگ بوی مست جوی چنگ\n",
            "بدو گفت بهرام کای شهریار که من نیاید به کار زار سیر آر خار خو\n",
            "چو من بگذرم زین سپنجی سرای که تو را باشدت رهنمای خدای نشست دست پای\n"
          ]
        }
      ]
    },
    {
      "cell_type": "code",
      "execution_count": 46,
      "metadata": {
        "id": "9ytn4TkOnYiU"
      },
      "outputs": [],
      "source": [
        "# define another encoder with Bidirectional GRU\n",
        "class Encoder(nn.Module):\n",
        "    def __init__(self, input_size, embedding_size, hidden_size, num_layers, p_drop=0.1):\n",
        "        super(Encoder, self).__init__()\n",
        "        self.hidden_size = hidden_size\n",
        "        self.num_layers = num_layers\n",
        "        self.embedding = nn.Embedding(input_size, embedding_size)\n",
        "        self.gru = nn.GRU(embedding_size, hidden_size, num_layers, batch_first=True, bidirectional=True)\n",
        "        self.dropout = nn.Dropout(p_drop)\n",
        "\n",
        "    def forward(self, x):\n",
        "        # x.shape = (batch_size, seq_len)\n",
        "        embedding = self.dropout(self.embedding(x))\n",
        "        # embedding.shape = (batch_size, seq_len, embedding_size)\n",
        "        outputs, hidden = self.gru(embedding)\n",
        "        # outputs.shape = (batch_size, seq_len, hidden_size * 2)\n",
        "        # hidden.shape = (num_layers * 2, batch_size, hidden_size)\n",
        "        return hidden\n",
        "\n",
        "# define decoder with bidirectional GRU\n",
        "class Decoder(nn.Module):\n",
        "    def __init__(self, input_size, embedding_size, hidden_size, output_size, num_layers, p_drop=0.1):\n",
        "        super(Decoder, self).__init__()\n",
        "        self.hidden_size = hidden_size\n",
        "        self.num_layers = num_layers\n",
        "        self.embedding = encoder.embedding\n",
        "        self.rnn = nn.GRU(embedding_size, hidden_size, num_layers, batch_first=True, bidirectional=True)\n",
        "        self.fc = nn.Linear(hidden_size * 2, output_size)  # since bidirectional, so multiply by 2\n",
        "        self.dropout = nn.Dropout(p_drop)\n",
        "\n",
        "    def forward(self, x, hidden):\n",
        "        # x.shape = (batch_size, 1)\n",
        "        x = x.unsqueeze(1)\n",
        "        # x.shape = (batch_size, 1, 1)\n",
        "        embedding = self.dropout(self.embedding(x))\n",
        "        # embedding.shape = (batch_size, 1, embedding_size)\n",
        "        outputs, hidden = self.rnn(embedding, hidden)\n",
        "        # outputs.shape = (batch_size, 1, hidden_size * 2)  # since bidirectional, so hidden_size * 2\n",
        "        # hidden.shape = (num_layers * 2, batch_size, hidden_size)  # since bidirectional, so num_layers * 2\n",
        "        predictions = self.fc(outputs)\n",
        "        # predictions.shape = (batch_size, 1, output_size)\n",
        "        predictions = predictions.squeeze(1)\n",
        "        # predictions.shape = (batch_size, output_size)\n",
        "        return predictions, hidden"
      ]
    },
    {
      "cell_type": "code",
      "execution_count": 53,
      "metadata": {
        "id": "9zzrUjLI-SiG"
      },
      "outputs": [],
      "source": [
        "class Seq2Seq(nn.Module):\n",
        "    def __init__(self, encoder, decoder):\n",
        "        super(Seq2Seq, self).__init__()\n",
        "        self.encoder = encoder\n",
        "        self.decoder = decoder\n",
        "\n",
        "    def forward(self, source, target, teacher_forcing_ratio=0.5):\n",
        "        # source.shape = (batch_size, source_seq_len)\n",
        "        # target.shape = (batch_size, target_seq_len)\n",
        "        batch_size = source.shape[0]\n",
        "        target_len = target.shape[1]\n",
        "        target_vocab_size = len(dataset.vocab.word2idx)\n",
        "        outputs = torch.zeros(batch_size, target_len, target_vocab_size).to(device)\n",
        "        hidden = self.encoder(source)\n",
        "        # hidden.shape = (batch_size, 2*hidden_size)\n",
        "        x = target[:, 0]\n",
        "        # x.shape = (batch_size)\n",
        "        for t in range(1, target_len):\n",
        "            output, hidden = self.decoder(x, hidden)\n",
        "            # output.shape = (batch_size, target_vocab_size)\n",
        "            outputs[:, t] = output\n",
        "            best_guess = output.argmax(1)\n",
        "            x = target[:, t] if random.random() < teacher_forcing_ratio else best_guess\n",
        "        return outputs\n"
      ]
    },
    {
      "cell_type": "code",
      "execution_count": 64,
      "metadata": {
        "id": "-SVMBPKm-SiH"
      },
      "outputs": [],
      "source": [
        "# hyperparameters\n",
        "input_size_encoder = len(dataset.vocab.word2idx)\n",
        "encoder_embedding_size = 200\n",
        "hidden_size = 128\n",
        "num_layers = 2\n",
        "# define the encoder\n",
        "encoder = Encoder(input_size_encoder, encoder_embedding_size, hidden_size, num_layers).to(device)\n",
        "# hyperparameters\n",
        "input_size_decoder = len(dataset.vocab.word2idx)\n",
        "output_size = len(dataset.vocab.word2idx)\n",
        "decoder_embedding_size = 200\n",
        "hidden_size = 128\n",
        "num_layers = 2\n",
        "num_epochs = 25\n",
        "# define the decoder\n",
        "decoder = Decoder(input_size_decoder, decoder_embedding_size, hidden_size, output_size, num_layers).to(device)\n",
        "model = Seq2Seq(encoder, decoder).to(device)\n",
        "optimizer = optim.Adam(model.parameters(), lr=learning_rate)\n",
        "criterion = nn.CrossEntropyLoss(ignore_index=dataset.vocab.word2idx['<pad>'])"
      ]
    },
    {
      "cell_type": "code",
      "source": [
        "# define a function that takes a tensor of indices and returns a string and removes pad and end and start tokens\n",
        "def tensor2string(tensor):\n",
        "    # tensor.shape = (seq_len)\n",
        "    words = [dataset.vocab.idx2word[idx.item()] for idx in tensor]\n",
        "    words = [word for word in words if word not in ['<pad>', '<sos>', '<eos>']]\n",
        "    return ' '.join(words)\n",
        "\n",
        "# define a function that generates a verse\n",
        "def generate_verse_gru(model, source, device, max_len=20):\n",
        "    source = source.unsqueeze(0)\n",
        "    model.eval()\n",
        "    # dont forget to move to device\n",
        "    with torch.no_grad():\n",
        "        hidden = model.encoder(source.to(device))\n",
        "        # hidden.shape = (num_layers, batch_size, hidden_size)\n",
        "        # cell.shape = (num_layers, batch_size, hidden_size)\n",
        "        x = torch.tensor([dataset.vocab.word2idx['<sos>']]).to(device)\n",
        "        outputs = []\n",
        "        for t in range(max_len):\n",
        "            output, hidden = model.decoder(x, hidden)\n",
        "            # output.shape = (1, output_size)\n",
        "            best_guess = output.argmax(1)\n",
        "            outputs.append(best_guess.item())\n",
        "            x = best_guess\n",
        "            if best_guess.item() == dataset.vocab.word2idx['<eos>']:\n",
        "                break\n",
        "    return tensor2string(torch.tensor(outputs))"
      ],
      "metadata": {
        "id": "NofHrnyya_Q2"
      },
      "execution_count": 65,
      "outputs": []
    },
    {
      "cell_type": "code",
      "execution_count": 66,
      "metadata": {
        "id": "EucbtXK1-SiH"
      },
      "outputs": [],
      "source": [
        "# define a function that trains the model\n",
        "def train(model, train_loader, val_loader, criterion, optimizer, num_epochs, device, generate_verse):\n",
        "    train_losses = []\n",
        "    val_losses = []\n",
        "    train_accuracies = []\n",
        "    val_accuracies = []\n",
        "    for epoch in range(num_epochs):\n",
        "        train_loss = 0\n",
        "        train_accuracy = 0\n",
        "        idx = random.randint(0, len(train_dataset))\n",
        "        verse = train_dataset[idx][0].to(device)\n",
        "        print(generate_verse(model, verse, device=device))\n",
        "        model.train()\n",
        "        for (source, target) in train_loader:\n",
        "            source = source.to(device)\n",
        "            target = target.to(device)\n",
        "            outputs = model(source, target)\n",
        "            # outputs.shape = (batch_size, target_seq_len, output_size)\n",
        "            outputs = outputs[:, 1:].reshape(-1, outputs.shape[2])\n",
        "            # outputs.shape = (batch_size * target_seq_len, output_size)\n",
        "            target = target[:, 1:].reshape(-1)\n",
        "            # target.shape = (batch_size * target_seq_len)\n",
        "            loss = criterion(outputs, target)\n",
        "            optimizer.zero_grad()\n",
        "            loss.backward()\n",
        "            optimizer.step()\n",
        "            train_loss += loss.item()\n",
        "            top_p, top_class = outputs.topk(1, dim=1)\n",
        "            # top_p.shape = (batch_size * target_seq_len, 1)\n",
        "            # top_class.shape = (batch_size * target_seq_len, 1)\n",
        "            equals = top_class == target.view(*top_class.shape)\n",
        "            # equals.shape = (batch_size * target_seq_len, 1)\n",
        "            train_accuracy += torch.mean(equals.type(torch.FloatTensor)).item()\n",
        "        train_losses.append(train_loss / len(train_loader))\n",
        "        train_accuracies.append(train_accuracy / len(train_loader))\n",
        "        model.eval()\n",
        "        val_loss = 0\n",
        "        val_accuracy = 0\n",
        "        with torch.no_grad():\n",
        "            for (source, target) in val_loader:\n",
        "                source = source.to(device)\n",
        "                target = target.to(device)\n",
        "                outputs = model(source, target)\n",
        "                # outputs.shape = (batch_size, target_seq_len, output_size)\n",
        "                outputs = outputs[:, 1:].reshape(-1, outputs.shape[2])\n",
        "                # outputs.shape = (batch_size * target_seq_len, output_size)\n",
        "                target = target[:, 1:].reshape(-1)\n",
        "                # target.shape = (batch_size * target_seq_len)\n",
        "                loss = criterion(outputs, target)\n",
        "                val_loss += loss.item()\n",
        "                top_p, top_class = outputs.topk(1, dim=1)\n",
        "                # top_p.shape = (batch_size * target_seq_len, 1)\n",
        "                # top_class.shape = (batch_size * target_seq_len, 1)\n",
        "                equals = top_class == target.view(*top_class.shape)\n",
        "                # equals.shape = (batch_size * target_seq_len, 1)\n",
        "                val_accuracy += torch.mean(equals.type(torch.FloatTensor)).item()\n",
        "        val_losses.append(val_loss / len(val_loader))\n",
        "        val_accuracies.append(val_accuracy / len(val_loader))\n",
        "        print(f'Epoch {epoch + 1}/{num_epochs} | Train Loss: {train_losses[-1]:.4f} | Train Accuracy: {train_accuracies[-1]:.4f} | Val Loss: {val_losses[-1]:.4f} | Val Accuracy: {val_accuracies[-1]:.4f}')\n",
        "    return train_losses, val_losses, train_accuracies, val_accuracies"
      ]
    },
    {
      "cell_type": "code",
      "execution_count": null,
      "metadata": {
        "id": "SnjsZFJk-SiI",
        "colab": {
          "base_uri": "https://localhost:8080/"
        },
        "outputId": "0d3a12b2-7a82-4cf9-8a23-b0c4f55b8bac"
      },
      "outputs": [
        {
          "output_type": "stream",
          "name": "stdout",
          "text": [
            "فرهنگیان گرسیوزست زکار میش تنگست سرافگنده سرافگنده سخنهای افروزش افروزش کشیدندش کشیدندش پیمانت رستمت رخساره محمد کشیدندش رخساره کمست بسازند\n"
          ]
        }
      ],
      "source": [
        "train_losses, val_losses, train_accuracies, val_accuracies = train(model, train_loader, test_loader, criterion, optimizer, num_epochs, device, generate_verse_gru)"
      ]
    },
    {
      "cell_type": "code",
      "source": [
        "# define a function that takes a tensor of indices and returns a string and removes pad and end and start tokens\n",
        "def tensor2string(tensor):\n",
        "    # tensor.shape = (seq_len)\n",
        "    words = [dataset.vocab.idx2word[idx.item()] for idx in tensor]\n",
        "    words = [word for word in words if word not in ['<pad>', '<sos>', '<eos>', '<unk>']]\n",
        "    return ' '.join(words)\n",
        "print(\"Some Generated Verses: \")\n",
        "i = 0\n",
        "while not i == 10:\n",
        "  idx = random.randint(0, len(train_dataset))\n",
        "  verse = train_dataset[idx][0].to(device)\n",
        "  generated = generate_verse_gru(model, verse, device=device)\n",
        "  if len(generated.split()) > 12:\n",
        "    counts = Counter(generated.split())\n",
        "    counts = sorted(counts.items(), key=lambda x: x[1], reverse=True)\n",
        "    if counts[0][1] == 1:\n",
        "      i += 1\n",
        "      print(generated)"
      ],
      "metadata": {
        "id": "ETTeBnj-bpyx"
      },
      "execution_count": null,
      "outputs": []
    }
  ],
  "metadata": {
    "accelerator": "GPU",
    "colab": {
      "provenance": [],
      "include_colab_link": true
    },
    "gpuClass": "standard",
    "kernelspec": {
      "display_name": "Python 3",
      "language": "python",
      "name": "python3"
    },
    "language_info": {
      "codemirror_mode": {
        "name": "ipython",
        "version": 3
      },
      "file_extension": ".py",
      "mimetype": "text/x-python",
      "name": "python",
      "nbconvert_exporter": "python",
      "pygments_lexer": "ipython3",
      "version": "3.9.0 (tags/v3.9.0:9cf6752, Oct  5 2020, 15:34:40) [MSC v.1927 64 bit (AMD64)]"
    },
    "vscode": {
      "interpreter": {
        "hash": "4fbe9694f7587329a2893969593bb646d9caf203732995a36644052b7dd475e8"
      }
    }
  },
  "nbformat": 4,
  "nbformat_minor": 0
}