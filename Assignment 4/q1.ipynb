{
 "cells": [
  {
   "cell_type": "code",
   "execution_count": 9,
   "metadata": {},
   "outputs": [],
   "source": [
    "# import necessary libraries for pytorch to train a sequence-to-sequence model using LSTM cells to generate poems of Ferdousi\n",
    "# the dataset is in ferdousi.txt which is in persian\n",
    "# the model is trained on a GPU\n",
    "\n",
    "import torch\n",
    "import torch.nn as nn\n",
    "import torch.nn.functional as F\n",
    "import torch.optim as optim\n",
    "import numpy as np\n",
    "import matplotlib.pyplot as plt\n",
    "import matplotlib.ticker as ticker\n",
    "import pandas as pd"
   ]
  },
  {
   "cell_type": "code",
   "execution_count": 32,
   "metadata": {},
   "outputs": [],
   "source": [
    "a = pd.read_csv('ferdousi.txt', sep = '\\t', header = None, skiprows=2)[0]\n",
    "if len(a)%2 == 1:\n",
    "    a = a[:-1]\n",
    "    "
   ]
  },
  {
   "cell_type": "code",
   "execution_count": 29,
   "metadata": {},
   "outputs": [
    {
     "data": {
      "text/html": [
       "<div>\n",
       "<style scoped>\n",
       "    .dataframe tbody tr th:only-of-type {\n",
       "        vertical-align: middle;\n",
       "    }\n",
       "\n",
       "    .dataframe tbody tr th {\n",
       "        vertical-align: top;\n",
       "    }\n",
       "\n",
       "    .dataframe thead th {\n",
       "        text-align: right;\n",
       "    }\n",
       "</style>\n",
       "<table border=\"1\" class=\"dataframe\">\n",
       "  <thead>\n",
       "    <tr style=\"text-align: right;\">\n",
       "      <th></th>\n",
       "      <th>first</th>\n",
       "      <th>second</th>\n",
       "    </tr>\n",
       "  </thead>\n",
       "  <tbody>\n",
       "    <tr>\n",
       "      <th>0</th>\n",
       "      <td>به نام خداوند جان و خرد</td>\n",
       "      <td>کزین برتر اندیشه برنگذرد</td>\n",
       "    </tr>\n",
       "    <tr>\n",
       "      <th>1</th>\n",
       "      <td>خداوند نام و خداوند جای</td>\n",
       "      <td>خداوند روزی ده رهنمای</td>\n",
       "    </tr>\n",
       "    <tr>\n",
       "      <th>2</th>\n",
       "      <td>خداوند کیوان و گردان سپهر</td>\n",
       "      <td>فروزنده ماه و ناهید و مهر</td>\n",
       "    </tr>\n",
       "    <tr>\n",
       "      <th>3</th>\n",
       "      <td>ز نام و نشان و گمان برترست</td>\n",
       "      <td>نگارندهٔ بر شده پیکرست</td>\n",
       "    </tr>\n",
       "    <tr>\n",
       "      <th>4</th>\n",
       "      <td>به بینندگان آفریننده را</td>\n",
       "      <td>نبینی مرنجان دو بیننده را</td>\n",
       "    </tr>\n",
       "  </tbody>\n",
       "</table>\n",
       "</div>"
      ],
      "text/plain": [
       "                        first                     second\n",
       "0     به نام خداوند جان و خرد   کزین برتر اندیشه برنگذرد\n",
       "1     خداوند نام و خداوند جای      خداوند روزی ده رهنمای\n",
       "2   خداوند کیوان و گردان سپهر  فروزنده ماه و ناهید و مهر\n",
       "3  ز نام و نشان و گمان برترست     نگارندهٔ بر شده پیکرست\n",
       "4     به بینندگان آفریننده را  نبینی مرنجان دو بیننده را"
      ]
     },
     "execution_count": 29,
     "metadata": {},
     "output_type": "execute_result"
    }
   ],
   "source": [
    "# a dataframe has only one column\n",
    "# create a new dataframe where each row has 2 columns\n",
    "# for the first row: the first column corresponds to a's first row and the second column corresponds to a's second row\n",
    "# for the second row: the first column corresponds to a's third row and the second column corresponds to a's fourth row\n",
    "# and so on\n",
    "new_a = pd.DataFrame({'first': a[::2].values, 'second': a[1::2].values})\n",
    "new_a.head()"
   ]
  },
  {
   "cell_type": "code",
   "execution_count": null,
   "metadata": {},
   "outputs": [],
   "source": []
  }
 ],
 "metadata": {
  "kernelspec": {
   "display_name": "Python 3",
   "language": "python",
   "name": "python3"
  },
  "language_info": {
   "codemirror_mode": {
    "name": "ipython",
    "version": 3
   },
   "file_extension": ".py",
   "mimetype": "text/x-python",
   "name": "python",
   "nbconvert_exporter": "python",
   "pygments_lexer": "ipython3",
   "version": "3.9.0"
  },
  "orig_nbformat": 4,
  "vscode": {
   "interpreter": {
    "hash": "4fbe9694f7587329a2893969593bb646d9caf203732995a36644052b7dd475e8"
   }
  }
 },
 "nbformat": 4,
 "nbformat_minor": 2
}
