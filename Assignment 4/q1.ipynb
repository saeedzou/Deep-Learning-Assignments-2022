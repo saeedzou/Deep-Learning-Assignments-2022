{
 "cells": [
  {
   "cell_type": "code",
   "execution_count": 1,
   "metadata": {},
   "outputs": [],
   "source": [
    "# import necessary libraries for pytorch to train a sequence-to-sequence model using LSTM cells to generate poems of Ferdousi\n",
    "# the dataset is in ferdousi.txt which is in persian\n",
    "# the model is trained on a GPU\n",
    "\n",
    "import torch\n",
    "import torch.nn as nn\n",
    "import torch.nn.functional as F\n",
    "import torch.optim as optim\n",
    "import numpy as np\n",
    "import matplotlib.pyplot as plt"
   ]
  },
  {
   "cell_type": "code",
   "execution_count": 30,
   "metadata": {},
   "outputs": [],
   "source": [
    "import nltk"
   ]
  },
  {
   "cell_type": "code",
   "execution_count": 41,
   "metadata": {},
   "outputs": [
    {
     "name": "stderr",
     "output_type": "stream",
     "text": [
      "[nltk_data] Downloading package punkt to\n",
      "[nltk_data]     C:\\Users\\saeedzou\\AppData\\Roaming\\nltk_data...\n",
      "[nltk_data]   Package punkt is already up-to-date!\n"
     ]
    }
   ],
   "source": [
    "# nltk punctuations for Persian\n",
    "nltk.download('punkt')\n",
    "from nltk.tokenize import word_tokenize\n",
    "from nltk.tokenize import sent_tokenize\n",
    "\n",
    "# for persian\n",
    "from hazm import *\n",
    "import string\n",
    "from collections import Counter"
   ]
  },
  {
   "cell_type": "code",
   "execution_count": 42,
   "metadata": {},
   "outputs": [],
   "source": [
    "with open('ferdousi.txt', 'r', encoding='utf-8') as f:\n",
    "    poem = [line.strip() for line in f.readlines()]\n",
    "poem = poem[2:]\n",
    "if len(poem) % 2 == 1:\n",
    "    poem = poem[:-1]\n",
    "poem = [[poem[i], poem[i+1]] for i in range(0, len(poem), 2)]\n",
    "poem = [mesra[0] + ' <eom> ' + mesra[1] for mesra in poem]"
   ]
  },
  {
   "cell_type": "code",
   "execution_count": 43,
   "metadata": {},
   "outputs": [
    {
     "name": "stdout",
     "output_type": "stream",
     "text": [
      "max_len = 18\n",
      "number of unique words = 18439\n"
     ]
    }
   ],
   "source": [
    "# remove punctuations\n",
    "poem = [word_tokenize(line) for line in poem]\n",
    "# Add persian punctuations\n",
    "punctuations = string.punctuation + '«»،؛؟'\n",
    "poem = [[word for word in line if word not in punctuations] for line in poem]\n",
    "\n",
    "# remove numbers\n",
    "poem = [[word for word in line if not word.isdigit()] for line in poem]\n",
    "\n",
    "# remove empty lines\n",
    "poem = [line for line in poem if len(line) > 0]\n",
    "\n",
    "# remove words with length less than 2\n",
    "poem = [[word for word in line if len(word) > 1] for line in poem]\n",
    "\n",
    "# what is the length of the longest line?\n",
    "max_len = max([len(line) for line in poem])\n",
    "print('max_len =', max_len)\n",
    "\n",
    "# pad the lines with <pad> to make them all the same length\n",
    "poem = [line + ['<pad>'] * (max_len - len(line)) for line in poem]\n",
    "\n",
    "# add <sos> to the beginning of each line\n",
    "poem = [['<sos>'] + line for line in poem]\n",
    "\n",
    "# create a dictionary of words using Counter\n",
    "words = Counter([word for line in poem for word in line])\n",
    "print('number of unique words =', len(words))\n",
    "\n",
    "# create a dictionary of words and their indices\n",
    "word2idx = {word: idx for idx, word in enumerate(words)}\n",
    "\n",
    "# create a dictionary of indices and their words\n",
    "idx2word = {idx: word for idx, word in enumerate(words)}\n",
    "\n",
    "# convert the poem to a list of indices\n",
    "poem = [[word2idx[word] for word in line] for line in poem]"
   ]
  },
  {
   "cell_type": "code",
   "execution_count": null,
   "metadata": {},
   "outputs": [],
   "source": [
    "# create a dataset that takes ferdousi.txt "
   ]
  }
 ],
 "metadata": {
  "kernelspec": {
   "display_name": "Python 3",
   "language": "python",
   "name": "python3"
  },
  "language_info": {
   "codemirror_mode": {
    "name": "ipython",
    "version": 3
   },
   "file_extension": ".py",
   "mimetype": "text/x-python",
   "name": "python",
   "nbconvert_exporter": "python",
   "pygments_lexer": "ipython3",
   "version": "3.9.0"
  },
  "orig_nbformat": 4,
  "vscode": {
   "interpreter": {
    "hash": "4fbe9694f7587329a2893969593bb646d9caf203732995a36644052b7dd475e8"
   }
  }
 },
 "nbformat": 4,
 "nbformat_minor": 2
}
