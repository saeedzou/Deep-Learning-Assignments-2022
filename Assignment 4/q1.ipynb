{
  "cells": [
    {
      "cell_type": "code",
      "execution_count": 3,
      "metadata": {
        "colab": {
          "base_uri": "https://localhost:8080/"
        },
        "id": "43XEpWwu9ZQH",
        "outputId": "b8e3ac92-5c85-4b55-ab90-b1d1b292c734"
      },
      "outputs": [
        {
          "name": "stdout",
          "output_type": "stream",
          "text": [
            "[nltk_data] Downloading package punkt to /root/nltk_data...\n",
            "[nltk_data]   Package punkt is already up-to-date!\n"
          ]
        }
      ],
      "source": [
        "# import necessary libraries for pytorch to train a sequence-to-sequence model using LSTM cells to generate poems of Ferdousi\n",
        "# the dataset is in ferdousi.txt which is in persian\n",
        "# the model is trained on a GPU\n",
        "\n",
        "import torch\n",
        "import torch.nn as nn\n",
        "import torch.nn.functional as F\n",
        "import torch.optim as optim\n",
        "import numpy as np\n",
        "import matplotlib.pyplot as plt\n",
        "import nltk\n",
        "nltk.download('punkt')\n",
        "from nltk.tokenize import word_tokenize\n",
        "from nltk.tokenize import sent_tokenize\n",
        "# # for persian\n",
        "# !pip install hazm -q\n",
        "# from hazm import *\n",
        "import string\n",
        "from collections import Counter\n",
        "import random"
      ]
    },
    {
      "cell_type": "code",
      "execution_count": 1,
      "metadata": {
        "colab": {
          "base_uri": "https://localhost:8080/"
        },
        "id": "GxNjFSQr9dmh",
        "outputId": "98c34048-7b48-4361-9964-28efa4e415c1"
      },
      "outputs": [
        {
          "name": "stdout",
          "output_type": "stream",
          "text": [
            "Cloning into 'Persian_poems_corpus'...\n",
            "remote: Enumerating objects: 159, done.\u001b[K\n",
            "remote: Total 159 (delta 0), reused 0 (delta 0), pack-reused 159\u001b[K\n",
            "Receiving objects: 100% (159/159), 45.21 MiB | 17.15 MiB/s, done.\n",
            "Resolving deltas: 100% (3/3), done.\n"
          ]
        }
      ],
      "source": [
        "!git clone https://github.com/amnghd/Persian_poems_corpus.git\n",
        "!cp Persian_poems_corpus/original/ferdousi.txt .\n",
        "!rm -rf Persian_poems_corpus"
      ]
    },
    {
      "cell_type": "code",
      "execution_count": 4,
      "metadata": {
        "id": "8OFdtzP_IgSO"
      },
      "outputs": [],
      "source": [
        "class FerdousiDataset(torch.utils.data.Dataset):\n",
        "    def __init__(self, poem_path):\n",
        "        self.poem_path = poem_path\n",
        "        self.load_poem()\n",
        "\n",
        "    def __len__(self):\n",
        "        return len(self.poem)-1\n",
        "\n",
        "    def __getitem__(self, idx):\n",
        "        return self.poem[idx], self.poem[idx+1]\n",
        "\n",
        "    def load_poem(self):\n",
        "        with open(self.poem_path, 'r', encoding='utf-8') as f:\n",
        "            poem = [line.strip() for line in f.readlines()]\n",
        "        poem = poem[2:]\n",
        "        poem = poem[:-1] if len(poem) % 2 == 1 else poem\n",
        "        poem = [[poem[i], poem[i+1]] for i in range(0, len(poem), 2)]\n",
        "        poem = [mesra[0] + ' ' + mesra[1] for mesra in poem]\n",
        "        poem = [word_tokenize(line) for line in poem]\n",
        "        punctuations = string.punctuation + '«»،؛؟'\n",
        "        poem = [[word for word in line if word not in punctuations] for line in poem]\n",
        "        poem = [[word for word in line if not word.isdigit()] for line in poem]\n",
        "        poem = [line for line in poem if len(line) > 0]\n",
        "        poem = [[word for word in line if len(word) > 1] for line in poem]\n",
        "        self.max_len = max([len(line) for line in poem])\n",
        "        poem = [line + ['<pad>'] * (self.max_len - len(line)) for line in poem]\n",
        "        poem = [['<sos>'] + line + ['<eos>'] for line in poem]\n",
        "        words = Counter([word for line in poem for word in line])\n",
        "        self.word2idx = {word: idx for idx, word in enumerate(words)}\n",
        "        self.idx2word = {idx: word for idx, word in enumerate(words)}\n",
        "        poem = [[self.word2idx[word] for word in line] for line in poem]\n",
        "        self.poem = torch.tensor(poem).long()"
      ]
    },
    {
      "cell_type": "code",
      "execution_count": 5,
      "metadata": {
        "id": "d9tLaOUoIiSi"
      },
      "outputs": [],
      "source": [
        "# create a dataset object\n",
        "dataset = FerdousiDataset('ferdousi.txt')\n",
        "# split the dataset into train and test\n",
        "train_size = int(0.8 * len(dataset))\n",
        "test_size = len(dataset) - train_size\n",
        "train_dataset, test_dataset = torch.utils.data.random_split(dataset, [train_size, test_size])\n",
        "# create a dataloader for train and test\n",
        "train_loader = torch.utils.data.DataLoader(train_dataset, batch_size=32, shuffle=True)\n",
        "test_loader = torch.utils.data.DataLoader(test_dataset, batch_size=32, shuffle=True)\n",
        "device = torch.device('cuda' if torch.cuda.is_available() else 'cpu')"
      ]
    },
    {
      "cell_type": "code",
      "execution_count": 6,
      "metadata": {
        "id": "GCemRPIzIjq2"
      },
      "outputs": [],
      "source": [
        "class Encoder(nn.Module):\n",
        "    def __init__(self, input_size, embedding_size, hidden_size, num_layers):\n",
        "        super(Encoder, self).__init__()\n",
        "        self.hidden_size = hidden_size\n",
        "        self.num_layers = num_layers\n",
        "        self.embedding = nn.Embedding(input_size, embedding_size)\n",
        "        self.rnn = nn.LSTM(embedding_size, hidden_size, num_layers, batch_first=True)\n",
        "\n",
        "    def forward(self, x):\n",
        "        # x.shape = (batch_size, seq_len)\n",
        "        embedding = self.embedding(x)\n",
        "        # embedding.shape = (batch_size, seq_len, embedding_size)\n",
        "        outputs, (hidden, cell) = self.rnn(embedding)\n",
        "        # outputs.shape = (batch_size, seq_len, hidden_size)\n",
        "        # hidden.shape = (num_layers, batch_size, hidden_size)\n",
        "        # cell.shape = (num_layers, batch_size, hidden_size)\n",
        "        return hidden, cell\n",
        "\n",
        "class Decoder(nn.Module):\n",
        "    def __init__(self, input_size, embedding_size, hidden_size, num_layers):\n",
        "        super(Decoder, self).__init__()\n",
        "        self.hidden_size = hidden_size\n",
        "        self.num_layers = num_layers\n",
        "        self.embedding = nn.Embedding(input_size, embedding_size)\n",
        "        self.rnn = nn.LSTM(embedding_size, hidden_size, num_layers, batch_first=True)\n",
        "        self.fc = nn.Linear(hidden_size, input_size)\n",
        "\n",
        "    def forward(self, x, hidden, cell):\n",
        "        # x.shape = (batch_size, seq_len)\n",
        "        embedding = self.embedding(x)\n",
        "        # embedding.shape = (batch_size, seq_len, embedding_size)\n",
        "        outputs, (hidden, cell) = self.rnn(embedding, (hidden, cell))\n",
        "        # outputs.shape = (batch_size, seq_len, hidden_size)\n",
        "        # hidden.shape = (num_layers, batch_size, hidden_size)\n",
        "        # cell.shape = (num_layers, batch_size, hidden_size)\n",
        "        predictions = self.fc(outputs)\n",
        "        # predictions.shape = (batch_size, seq_len, input_size)\n",
        "        return predictions, hidden, cell\n"
      ]
    },
    {
      "cell_type": "code",
      "execution_count": 46,
      "metadata": {
        "id": "AqW0PiIEImoQ"
      },
      "outputs": [],
      "source": [
        "# define a function to train the model and return the loss of the model on the train and test set\n",
        "def train(encoder, decoder, train_loader, test_loader, encoder_optimizer, decoder_optimizer, criterion, num_epochs):\n",
        "    train_losses = []\n",
        "    test_losses = []\n",
        "    for epoch in range(num_epochs):\n",
        "        encoder.train()\n",
        "        decoder.train()\n",
        "        train_loss = 0\n",
        "        for batch_idx, (data, target) in enumerate(train_loader):\n",
        "            data = data[:, :-1].to(device)\n",
        "            target = target[:, 1:].to(device)\n",
        "            encoder_optimizer.zero_grad()\n",
        "            decoder_optimizer.zero_grad()\n",
        "            hidden, cell = encoder(data)\n",
        "            predictions, _, _ = decoder(target, hidden, cell)\n",
        "            loss = criterion(predictions.reshape(-1, predictions.shape[-1]), target.reshape(-1))\n",
        "            loss.backward()\n",
        "            encoder_optimizer.step()\n",
        "            decoder_optimizer.step()\n",
        "            train_loss += loss.item()\n",
        "        train_loss /= len(train_loader)\n",
        "        train_losses.append(train_loss)\n",
        "        encoder.eval()\n",
        "        decoder.eval()\n",
        "        test_loss = 0\n",
        "        with torch.no_grad():\n",
        "            for batch_idx, (data, target) in enumerate(test_loader):\n",
        "                data = data[:, :-1].to(device)\n",
        "                target = target[:, 1:].to(device)\n",
        "                hidden, cell = encoder(data)\n",
        "                predictions, _, _ = decoder(target, hidden, cell)\n",
        "                loss = criterion(predictions.reshape(-1, predictions.shape[-1]), target.reshape(-1))\n",
        "                test_loss += loss.item()\n",
        "        test_loss /= len(test_loader)\n",
        "        test_losses.append(test_loss)\n",
        "        print('Epoch: {}/{}, Train Loss: {:.4f}, Test Loss: {:.4f}'.format(epoch+1, num_epochs, train_loss, test_loss))\n",
        "    return train_losses, test_losses\n",
        "    "
      ]
    },
    {
      "cell_type": "code",
      "execution_count": 60,
      "metadata": {
        "id": "63d_XLpGIlIm"
      },
      "outputs": [],
      "source": [
        "# create an encoder and decoder object\n",
        "encoder = Encoder(len(dataset.word2idx), 256, 512, 3)\n",
        "decoder = Decoder(len(dataset.word2idx), 256, 512, 3)\n",
        "encoder = encoder.to(device)\n",
        "decoder = decoder.to(device)"
      ]
    },
    {
      "cell_type": "code",
      "execution_count": 61,
      "metadata": {
        "colab": {
          "base_uri": "https://localhost:8080/"
        },
        "id": "sf6cQC_lKwVI",
        "outputId": "647fd375-f741-491a-9c8d-6d1716f47cf4"
      },
      "outputs": [
        {
          "name": "stdout",
          "output_type": "stream",
          "text": [
            "Epoch: 1/4, Train Loss: 2.0578, Test Loss: 0.7773\n",
            "Epoch: 2/4, Train Loss: 0.4609, Test Loss: 0.3548\n",
            "Epoch: 3/4, Train Loss: 0.1785, Test Loss: 0.2513\n",
            "Epoch: 4/4, Train Loss: 0.0762, Test Loss: 0.2191\n"
          ]
        }
      ],
      "source": [
        "# define the optimizer and criterion\n",
        "encoder_optimizer = torch.optim.Adam(encoder.parameters(), lr=0.001)\n",
        "decoder_optimizer = torch.optim.Adam(decoder.parameters(), lr=0.001)\n",
        "criterion = nn.CrossEntropyLoss()\n",
        "\n",
        "# train the model\n",
        "train_losses, test_losses = train(encoder, decoder, train_loader, test_loader, encoder_optimizer, decoder_optimizer, criterion, 4)\n"
      ]
    },
    {
      "cell_type": "code",
      "execution_count": 62,
      "metadata": {
        "colab": {
          "base_uri": "https://localhost:8080/",
          "height": 265
        },
        "id": "osQofss2Np3-",
        "outputId": "37a67fb3-e7e1-4ded-e400-6508574fcc5b"
      },
      "outputs": [
        {
          "data": {
            "image/png": "[encoded data removed]",
            "text/plain": [
              "<Figure size 432x288 with 1 Axes>"
            ]
          },
          "metadata": {
            "needs_background": "light"
          },
          "output_type": "display_data"
        }
      ],
      "source": [
        "plt.plot(train_losses, label='train')\n",
        "plt.plot(test_losses, label='test')\n",
        "plt.show()"
      ]
    },
    {
      "cell_type": "code",
      "execution_count": 63,
      "metadata": {
        "id": "hogycTJ4L0hY"
      },
      "outputs": [],
      "source": [
        "# create a function called convert_to_text to convert a list of indices to a string without the <pad>, <sos>, and <eos> tokens\n",
        "def convert_to_text(indices):\n",
        "    text = ''\n",
        "    for index in indices:\n",
        "        if index == dataset.word2idx['<pad>'] or index == dataset.word2idx['<sos>'] or index == dataset.word2idx['<eos>']:\n",
        "            continue\n",
        "        text += dataset.idx2word[index] + ' '\n",
        "    return text\n",
        "    "
      ]
    },
    {
      "cell_type": "code",
      "execution_count": 64,
      "metadata": {
        "id": "9_vEVms1MmXe"
      },
      "outputs": [],
      "source": [
        "# define a function to generate a given number of verses given a random verse from the dataset\n",
        "def generate(encoder, decoder, num_verses):\n",
        "    encoder.eval()\n",
        "    decoder.eval()\n",
        "    with torch.no_grad():\n",
        "        verse = dataset[random.randint(0, len(dataset)-1)][0]\n",
        "        print(convert_to_text(verse.numpy()))\n",
        "        verse = verse.unsqueeze(0).to(device)\n",
        "        hidden, cell = encoder(verse)\n",
        "        generated_verses = []\n",
        "        for i in range(num_verses):\n",
        "            generated_verse = []\n",
        "            x = torch.tensor([[dataset.word2idx['<sos>']]]).to(device)\n",
        "            for j in range(verse.shape[1]):\n",
        "                predictions, hidden, cell = decoder(x, hidden, cell)\n",
        "                predicted_index = torch.argmax(predictions, dim=2)\n",
        "                generated_verse.append(predicted_index.item())\n",
        "                x = predicted_index\n",
        "            generated_verses.append(convert_to_text(generated_verse))\n",
        "    return generated_verses\n",
        "    \n"
      ]
    },
    {
      "cell_type": "code",
      "execution_count": 68,
      "metadata": {
        "colab": {
          "base_uri": "https://localhost:8080/"
        },
        "id": "z63Fi3sfMoRq",
        "outputId": "92d1709d-b441-40bb-93b1-778c88f2dd2e"
      },
      "outputs": [
        {
          "name": "stdout",
          "output_type": "stream",
          "text": [
            "برآمد هر سوی دز رستخیز ندیدند جایی گذار گریز \n",
            "Generated Verses:\n",
            "زرسپ زرسپ زرسپ زرسپ زرسپ زرسپ زرسپ زرسپ زرسپ زرسپ زرسپ زرسپ زرسپ زرسپ زرسپ زرسپ زرسپ زرسپ زرسپ \n",
            "زرسپ زرسپ زرسپ زرسپ زرسپ زرسپ زرسپ زرسپ زرسپ زرسپ زرسپ زرسپ زرسپ زرسپ زرسپ زرسپ زرسپ زرسپ زرسپ \n",
            "زرسپ زرسپ زرسپ زرسپ زرسپ زرسپ زرسپ زرسپ زرسپ زرسپ زرسپ زرسپ زرسپ زرسپ زرسپ زرسپ زرسپ زرسپ زرسپ \n",
            "زرسپ زرسپ زرسپ زرسپ زرسپ زرسپ زرسپ زرسپ زرسپ زرسپ زرسپ زرسپ زرسپ زرسپ زرسپ زرسپ زرسپ زرسپ زرسپ \n",
            "زرسپ زرسپ زرسپ زرسپ زرسپ زرسپ زرسپ زرسپ زرسپ زرسپ زرسپ زرسپ زرسپ زرسپ زرسپ زرسپ زرسپ زرسپ زرسپ \n",
            "زرسپ زرسپ زرسپ زرسپ زرسپ زرسپ زرسپ زرسپ زرسپ زرسپ زرسپ زرسپ زرسپ زرسپ زرسپ زرسپ زرسپ زرسپ زرسپ \n",
            "زرسپ زرسپ زرسپ زرسپ زرسپ زرسپ زرسپ زرسپ زرسپ زرسپ زرسپ زرسپ زرسپ زرسپ زرسپ زرسپ زرسپ زرسپ زرسپ \n",
            "زرسپ زرسپ زرسپ زرسپ زرسپ زرسپ زرسپ زرسپ زرسپ زرسپ زرسپ زرسپ زرسپ زرسپ زرسپ زرسپ زرسپ زرسپ زرسپ \n",
            "زرسپ زرسپ زرسپ زرسپ زرسپ زرسپ زرسپ زرسپ زرسپ زرسپ زرسپ زرسپ زرسپ زرسپ زرسپ زرسپ زرسپ زرسپ زرسپ \n",
            "زرسپ زرسپ زرسپ زرسپ زرسپ زرسپ زرسپ زرسپ زرسپ زرسپ زرسپ زرسپ زرسپ زرسپ زرسپ زرسپ زرسپ زرسپ زرسپ \n"
          ]
        }
      ],
      "source": [
        "generated_verses = generate(encoder, decoder, 10)\n",
        "print('Generated Verses:')\n",
        "for verse in generated_verses:\n",
        "    print(verse)"
      ]
    },
    {
      "cell_type": "code",
      "execution_count": 69,
      "metadata": {
        "id": "_rTpMFGrM1wu"
      },
      "outputs": [],
      "source": [
        "# define new encoder and decoder classes like before but with Bidirectional GRU\n",
        "class Encoder(nn.Module):\n",
        "    def __init__(self, input_size, embedding_size, hidden_size, num_layers):\n",
        "        super(Encoder, self).__init__()\n",
        "        self.hidden_size = hidden_size\n",
        "        self.num_layers = num_layers\n",
        "        self.embedding = nn.Embedding(input_size, embedding_size)\n",
        "        self.rnn = nn.GRU(embedding_size, hidden_size, num_layers, bidirectional=True)\n",
        "        self.fc = nn.Linear(hidden_size*2, hidden_size)\n",
        "        \n",
        "    def forward(self, x):\n",
        "        # x.shape = (batch_size, seq_len)\n",
        "        embedding = self.embedding(x)\n",
        "        # embedding.shape = (batch_size, seq_len, embedding_size)\n",
        "        outputs, hidden = self.rnn(embedding)\n",
        "        # outputs.shape = (batch_size, seq_len, hidden_size*2)\n",
        "        # hidden.shape = (num_layers*2, batch_size, hidden_size)\n",
        "        hidden = torch.tanh(self.fc(torch.cat((hidden[-2,:,:], hidden[-1,:,:]), dim=1)))\n",
        "        # hidden.shape = (batch_size, hidden_size)\n",
        "        return hidden\n",
        "\n",
        "class Decoder(nn.Module):\n",
        "    def __init__(self, input_size, embedding_size, hidden_size, output_size, num_layers):\n",
        "        super(Decoder, self).__init__()\n",
        "        self.hidden_size = hidden_size\n",
        "        self.num_layers = num_layers\n",
        "        self.embedding = nn.Embedding(input_size, embedding_size)\n",
        "        self.rnn = nn.GRU(embedding_size, hidden_size, num_layers)\n",
        "        self.fc = nn.Linear(hidden_size, output_size)\n",
        "        \n",
        "    def forward(self, x, hidden):\n",
        "        # x.shape = (batch_size, 1)\n",
        "        # hidden.shape = (num_layers, batch_size, hidden_size)\n",
        "        x = x.unsqueeze(0)\n",
        "        # x.shape = (1, batch_size, 1)\n",
        "        embedding = self.embedding(x)\n",
        "        # embedding.shape = (1, batch_size, embedding_size)\n",
        "        output, hidden = self.rnn(embedding, hidden)\n",
        "        # output.shape = (1, batch_size, hidden_size)\n",
        "        # hidden.shape = (num_layers, batch_size, hidden_size)\n",
        "        predictions = self.fc(output)\n",
        "        # predictions.shape = (1, batch_size, output_size)\n",
        "        predictions = predictions.squeeze(0)\n",
        "        # predictions.shape = (batch_size, output_size)\n",
        "        return predictions, hidden\n",
        "\n",
        "# define the encoder and decoder\n",
        "encoder = Encoder(len(dataset.word2idx), 100, 256, 2).to(device)\n",
        "decoder = Decoder(len(dataset.word2idx), 100, 256, len(dataset.word2idx), 2).to(device)\n",
        "\n",
        "# define the optimizer and criterion\n",
        "encoder_optimizer = torch.optim.Adam(encoder.parameters(), lr=0.001)\n",
        "decoder_optimizer = torch.optim.Adam(decoder.parameters(), lr=0.001)\n",
        "criterion = nn.CrossEntropyLoss()\n"
      ]
    }
  ],
  "metadata": {
    "accelerator": "GPU",
    "colab": {
      "provenance": []
    },
    "gpuClass": "standard",
    "kernelspec": {
      "display_name": "Python 3",
      "language": "python",
      "name": "python3"
    },
    "language_info": {
      "name": "python",
      "version": "3.9.0 (tags/v3.9.0:9cf6752, Oct  5 2020, 15:34:40) [MSC v.1927 64 bit (AMD64)]"
    },
    "vscode": {
      "interpreter": {
        "hash": "4fbe9694f7587329a2893969593bb646d9caf203732995a36644052b7dd475e8"
      }
    }
  },
  "nbformat": 4,
  "nbformat_minor": 0
}
